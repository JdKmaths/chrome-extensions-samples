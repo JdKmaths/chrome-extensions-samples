{
  "nbformat": 4,
  "nbformat_minor": 0,
  "metadata": {
    "colab": {
      "provenance": []
    },
    "kernelspec": {
      "name": "python3",
      "display_name": "Python 3"
    },
    "language_info": {
      "name": "python"
    }
  },
  "cells": [
    {
      "cell_type": "markdown",
      "source": [
        "# Applications of Principal Component Analysis\n",
        "\n"
      ],
      "metadata": {
        "id": "RHdQOsqU48SA"
      }
    },
    {
      "cell_type": "markdown",
      "source": [
        "# Exercise 1: Statistical Computations on Vectors"
      ],
      "metadata": {
        "id": "APD2wU5Ndu8X"
      }
    },
    {
      "cell_type": "markdown",
      "source": [
        "**1.5 Exercise 1** \\\\\n",
        "Let\n",
        "\n",
        "$$\n",
        "\\textbf{x} = \\begin{bmatrix}\n",
        "4 \\\\\n",
        "-2 \\\\\n",
        "7\n",
        "\\end{bmatrix},\n",
        "\\:\\:\\:\\:\\:\n",
        "\\textbf{y} = \\begin{bmatrix}\n",
        "3 \\\\\n",
        "4 \\\\\n",
        "5\n",
        "\\end{bmatrix}.\n",
        "$$\n",
        "\n",
        "Compute the following quantities: \\\\\n",
        "(a) The means $\\bar{x}$ and $\\bar{y}$. \\\\\n",
        "(b) The variances $s_\\textbf{x}^2$ and  $s_\\textbf{y}^2$. \\\\\n",
        "(c) The covariance $\\text{cov}(\\textbf{x},\\textbf{y})$. \\\\\n",
        "(d) The correlation between $\\textbf{x}$ and $\\textbf{y}$."
      ],
      "metadata": {
        "id": "ifkSpAoaeIcg"
      }
    },
    {
      "cell_type": "markdown",
      "source": [
        "**Task 1(a): Compute the means $\\bar{x}$ and $\\bar{y}$** \\\\\n",
        "To do: replace `...` below to input the vectors $\\textbf{x}$ and $\\textbf{y}$ and then compute the means $\\bar{x}$ and $\\bar{y}$ \\\\\n",
        "(Hint: the command `np.mean(a)` returns the arithmetic mean of array `a`)"
      ],
      "metadata": {
        "id": "0-TUyHcYgOqK"
      }
    },
    {
      "cell_type": "code",
      "execution_count": null,
      "metadata": {
        "id": "Ur_o5xju4zWY"
      },
      "outputs": [],
      "source": [
        "import numpy as np\n",
        "\n",
        "# Define the input vectors x and y\n",
        "x = ...\n",
        "y = ...\n",
        "\n",
        "# (a) Compute sample means\n",
        "mean_x = ... # Mean of vector x\n",
        "mean_y = ... # Mean of vector y\n",
        "\n",
        "# Output the results\n",
        "print(\"(a) Sample Means:\")\n",
        "print(\"Mean of x:\", mean_x)\n",
        "print(\"Mean of y:\", mean_y)"
      ]
    },
    {
      "cell_type": "markdown",
      "source": [
        "**Task 1(b): Compute the variances $s_\\textbf{x}^2$ and  $s_\\textbf{y}^2$** \\\\\n",
        "To do: replace `...` below to compute the sample variances $s_\\textbf{x}^2$ and  $s_\\textbf{y}^2$ \\\\\n",
        "(Hint: the command `np.var(a, ddof=1)` returns the sample variance of array `a`)"
      ],
      "metadata": {
        "id": "Lj8jUuWJiVOO"
      }
    },
    {
      "cell_type": "code",
      "source": [
        "# (b) Compute sample variances (using ddof=1 for sample variance)\n",
        "var_x = ...  # Sample variance of x\n",
        "var_y = ...  # Sample variance of y\n",
        "\n",
        "print(\"(b) Sample Variances:\")\n",
        "print(\"Variance of x:\", var_x)\n",
        "print(\"Variance of y:\", var_y)"
      ],
      "metadata": {
        "id": "3x7tdUW6jIge"
      },
      "execution_count": null,
      "outputs": []
    },
    {
      "cell_type": "markdown",
      "source": [
        "**Task 1(c): Compute the covariance $\\text{cov}(\\textbf{x},\\textbf{y})$** \\\\\n",
        "To do: replace `...` below to compute the sample covariance $\\text{cov}(\\textbf{x},\\textbf{y})$ \\\\\n",
        "(Hint: the command `np.cov(a, b)` returns the covariance matrix of arrays `a` and `b`, in which the (0, 1)-entry is the covariance of arrays `a` and `b`)"
      ],
      "metadata": {
        "id": "MMCoHsE5jwCg"
      }
    },
    {
      "cell_type": "code",
      "source": [
        "# (c) Compute sample covariance\n",
        "# np.cov returns a covariance matrix; we extract the covariance, which is the [0, 1] element\n",
        "cov_matrix = ...\n",
        "cov_xy = ...\n",
        "\n",
        "print(\"(c) Sample Covariance:\")\n",
        "print(\"Covariance between x and y:\", cov_xy)"
      ],
      "metadata": {
        "id": "f2TUZu9lkDuo"
      },
      "execution_count": null,
      "outputs": []
    },
    {
      "cell_type": "markdown",
      "source": [
        "**Task 1(d): Compute the correlation between $\\textbf{x}$ and $\\textbf{y}$** \\\\\n",
        "To do: replace `...` below to compute the sample correlation between $\\textbf{x}$ and $\\textbf{y}$ \\\\\n",
        "(Hint: the command `np.corrcoef(a, b)` returns the Pearson product-moment correlation coefficients matrix of arrays `a` and `b`, in which the (0, 1)-entry is the sample correlation of arrays `a` and `b`)"
      ],
      "metadata": {
        "id": "HAYQWXsZmEKX"
      }
    },
    {
      "cell_type": "code",
      "source": [
        "# (d) Compute sample correlation\n",
        "cor_xy = ...  # Pearson correlation coefficient\n",
        "\n",
        "print(\"(d) Sample Correlation:\")\n",
        "print(\"Correlation between x and y:\", cor_xy)"
      ],
      "metadata": {
        "id": "mabQBQLFmTDo"
      },
      "execution_count": null,
      "outputs": []
    },
    {
      "cell_type": "markdown",
      "source": [
        "# Exercise 2: Performance of Honors Calculus class students"
      ],
      "metadata": {
        "id": "8ZxEAwdnqV84"
      }
    },
    {
      "cell_type": "markdown",
      "source": [
        "**1.7 Exercise 2** \\\\\n",
        "The set of data in the table below was collected by one of the authors from an Honors Calculus class of 14 students. The four variables are:\n",
        "* ${MT}$: a score from a national test (range 1 to 36)\n",
        "* ${FE}$: final exam score (range 0 to 200)\n",
        "* ${Qav}$: mean of eight quiz scores (range 0 to 100)\n",
        "* ${Tav}$: mean of three test scores (range 0 to 100)\n",
        "\n",
        "**1.7.1 Original Data** \\\\\n",
        "\n",
        "$$\n",
        "\\begin{array}{cccccccc}\n",
        "\\hline\n",
        "Student & MT & FE & Qav & Tav \\\\\n",
        "\\hline\n",
        "1 & 33 & 181 & 95 & 89 \\\\\n",
        "2 & 31 & 169 & 81 & 89 \\\\\n",
        "3 & 21 & 176 & 65 & 68 \\\\\n",
        "4 & 25 & 181 & 66 & 90 \\\\\n",
        "5 & 29 & 169 & 89 & 81 \\\\\n",
        "6 & 24 & 103 & 61 & 57 \\\\\n",
        "7 & 24 & 150 & 81 & 76 \\\\\n",
        "8 & 29 & 147 & 86 & 76 \\\\\n",
        "9 & 36 & 181 & 98 & 102 \\\\\n",
        "10 & 26 & 163 & 72 & 70 \\\\\n",
        "11 & 31 & 163 & 95 & 81 \\\\\n",
        "12 & 29 & 147 & 65 & 67 \\\\\n",
        "13 & 23 & 160 & 62 & 68 \\\\\n",
        "14 & 26 & 100 & 63 & 56 \\\\ \\hline\n",
        "\\end{array}\n",
        "$$\n"
      ],
      "metadata": {
        "id": "hcbTIhuO69J8"
      }
    },
    {
      "cell_type": "markdown",
      "source": [
        "Perferm the following tasks: \\\\\n",
        "1. * **Original Data**: The data is stored in a NumPy array.\n",
        "   * **Compute Column Means**: Calculate the mean for each column using `np.mean`.\n",
        "   *  **Compute Column Standard Deviations**: Calculate the standard deviation for each column using `np.std` with `ddof=1` for sample standard deviation.\n",
        "2. * **Standardize the Data**: Use the formula\n",
        "$$\n",
        "\\textbf{z} = \\frac{\\textbf{x}-\\bar{\\textbf{x}}}{s_\\textbf{x}}\n",
        "$$\n",
        "to standardize the data. (obtaining a scaled variable with mean 0 and standard devation 1)\n",
        "   * **Round the $Z$ Matrix**: Round the standardized values to four decimal places using `np.round`.\n",
        "3. * **Compute the Correlation Matrix**: Calculate the correlation matrix of the standardized data using `np.corrcoef`.\n",
        "   * **Round the $C_0$ Matrix**: Round the values to four decimal places using `np.round`.\n",
        "4. **Perform PCA**: Use PCA from `sklearn.decomposition` to perform principal component analysis.\n",
        "5. * **Extract the Loadings**: Get the eigenvectors (loadings) from the PCA result using `pca.components_`.\n",
        "   * **Extract the Eigenvalues**: Get the eigenvalues from the PCA result using `pca.explained_variance_`.\n",
        "6. * **Compute Specified Sums `y1` and `y2`**: Calculate the specified sums using the loadings and standardized data.\n",
        "  * **Compute Column Means of `y1` and `y2`**: Calculate the mean of the computed sums `y1` and `y2`.\n",
        "  * **Compute Column Standard Deviations of `y1` and `y2`**: Calculate the standard deviation of `y1` and `y2`.\n",
        "  * **Normalize `y1` and `y2`**: Normalize `y1` and `y2` using their respective means and standard deviations.\n",
        "  * **Add `y1_normalized` and `y2_normalized` to Z**: Add the normalized `y1` and `y2` as new columns to the standardized data matrix.\n",
        "  * **Compute Correlation Matrix with `y1_normalized` and `y2_normalized`**: Calculate the correlation matrix including the normalized `y1` and `y2`.\n",
        "  * **Remove Row and Column Labels from `newC0`**: Remove the row and column labels from the new correlation matrix.\n",
        "7. **Compute the Proportion of Variance Explained**: Calculate the proportion of variance explained by each principal component.\n",
        "8. **Compute the Principal Components**: Get the principal components from the PCA result using `pca.transform`.\n",
        "9. * **Print the Results**: Display the correlation matrix, loadings, eigenvalues, proportion of variance explained, and principal components.\n",
        "   * **Plot Principal Axes**: Plot the principal axes (PC1 and PC2) in a scatter plot with different colors.\n"
      ],
      "metadata": {
        "id": "t7y7Esda0PHM"
      }
    },
    {
      "cell_type": "markdown",
      "source": [
        "**Task 2.1: Compute the means and standard deviations of the variables** \\\\\n",
        "To do: replace `...` below to compute the means and standard deviations of the variables $MT, FE, Qav, Tav$ \\\\\n",
        "(Hint: the command `np.mean(a, axis=0)` returns the arithmetic mean of array `a` along the columns and \\\\\n",
        "the command `np.std(a, axis=0, ddof=1)` returns the sample standard deviation of array `a` along the columns)"
      ],
      "metadata": {
        "id": "OZBS_MNHDie4"
      }
    },
    {
      "cell_type": "code",
      "source": [
        "import numpy as np\n",
        "from sklearn.preprocessing import StandardScaler\n",
        "from sklearn.decomposition import PCA\n",
        "import matplotlib.pyplot as plt\n",
        "import pandas as pd\n",
        "\n",
        "# Step 1,1: Original data\n",
        "values = np.array([[33,31,21,25,29,24,24,29,36,26,31,29,23,26],\n",
        "          [181,169,176,181,169,103,150,147,181,163,163,147,160,100],\n",
        "          [95,81,65,66,89,61,81,86,98,72,95,65,62,63],\n",
        "          [89,89,68,90,81,57,76,76,102,70,81,67,68,56]])\n",
        "# Step 1.2: Compute column means\n",
        "values =values.transpose()\n",
        "mean_values = np.mean(values,axis=0)\n",
        "print(\"Column Means:\", mean_values)\n",
        "\n",
        "# Step 1.3: Compute column standard deviations\n",
        "std_dev_values = np.std(values,axis=0,ddof=0)\n",
        "print(\"Column Standard Deviations:\", std_dev_values)"
      ],
      "metadata": {
        "id": "2EcJUG0XDePw",
        "colab": {
          "base_uri": "https://localhost:8080/"
        },
        "outputId": "c235c9e0-eacc-4c1b-a7fd-d260e7b5cc57"
      },
      "execution_count": 14,
      "outputs": [
        {
          "output_type": "stream",
          "name": "stdout",
          "text": [
            "Column Means: [ 27.64285714 156.42857143  77.07142857  76.42857143]\n",
            "Column Standard Deviations: [ 4.06390282 25.16719601 13.24744873 12.71508826]\n"
          ]
        }
      ]
    },
    {
      "cell_type": "markdown",
      "source": [],
      "metadata": {
        "id": "tp7mQ7Q_cW4J"
      }
    },
    {
      "cell_type": "markdown",
      "source": [
        "**Task 2.2: Find the standardized matrix $Z$ of the data** \\\\\n",
        "To do: replace `...` below to compute the the standardized matrix $Z$ with scaled variables (standard score)"
      ],
      "metadata": {
        "id": "dw4Fkb4BEH_u"
      }
    },
    {
      "cell_type": "code",
      "source": [
        "# Step 2.1: Standardize the data\n",
        "Z = [(values - mean_values) / std_dev_values]\n",
        "#print(Z)\n",
        "# Step 2.2: Round the Z matrix to four decimal places\n",
        "Z = np.round(Z,4)\n",
        "print(\"Standardized Data (Z):\\n\", Z)"
      ],
      "metadata": {
        "id": "a0PEol4MR7Dc",
        "outputId": "4740d603-4d1d-4f94-e6a7-f9c3560d6811",
        "colab": {
          "base_uri": "https://localhost:8080/"
        }
      },
      "execution_count": 17,
      "outputs": [
        {
          "output_type": "stream",
          "name": "stdout",
          "text": [
            "Standardized Data (Z):\n",
            " [[[ 1.3182  0.9763  1.3534  0.9887]\n",
            "  [ 0.8261  0.4995  0.2966  0.9887]\n",
            "  [-1.6346  0.7777 -0.9112 -0.6629]\n",
            "  [-0.6503  0.9763 -0.8357  1.0673]\n",
            "  [ 0.334   0.4995  0.9004  0.3595]\n",
            "  [-0.8964 -2.1229 -1.2132 -1.528 ]\n",
            "  [-0.8964 -0.2554  0.2966 -0.0337]\n",
            "  [ 0.334  -0.3746  0.674  -0.0337]\n",
            "  [ 2.0564  0.9763  1.5798  2.0111]\n",
            "  [-0.4043  0.2611 -0.3828 -0.5056]\n",
            "  [ 0.8261  0.2611  1.3534  0.3595]\n",
            "  [ 0.334  -0.3746 -0.9112 -0.7415]\n",
            "  [-1.1425  0.1419 -1.1377 -0.6629]\n",
            "  [-0.4043 -2.2421 -1.0622 -1.6066]]]\n"
          ]
        }
      ]
    },
    {
      "cell_type": "markdown",
      "source": [
        "**Task 2.3: Find the correlation matrix $C_0$ of the variables** \\\\\n",
        "To do: replace `...` below to compute the correlation matrix $C_0$ of the variables \\\\\n",
        "(Hint: the command `np.corrcoef(a, rowvar=False)` returns the Pearson product-moment correlation coefficients matrix of `a`, where each column of `a` represents a variable)"
      ],
      "metadata": {
        "id": "85-q2IuZTT59"
      }
    },
    {
      "cell_type": "code",
      "source": [
        "# Step 3: Compute the correlation matrix\n",
        "C0 = np.corrcoef(Z,rowvar=0)\n",
        "C0 = C0[0,1]\n",
        "print(\"Correlation Matrix (C0):\\n\", C0)"
      ],
      "metadata": {
        "id": "RFTWC6nzUOdJ",
        "outputId": "335e472b-7f37-4bc5-ae73-ba1b6e3a961a",
        "colab": {
          "base_uri": "https://localhost:8080/",
          "height": 339
        }
      },
      "execution_count": 19,
      "outputs": [
        {
          "output_type": "error",
          "ename": "ValueError",
          "evalue": "m has more than 2 dimensions",
          "traceback": [
            "\u001b[0;31m---------------------------------------------------------------------------\u001b[0m",
            "\u001b[0;31mValueError\u001b[0m                                Traceback (most recent call last)",
            "\u001b[0;32m/tmp/ipython-input-19-4196441269.py\u001b[0m in \u001b[0;36m<cell line: 0>\u001b[0;34m()\u001b[0m\n\u001b[1;32m      1\u001b[0m \u001b[0;31m# Step 3: Compute the correlation matrix\u001b[0m\u001b[0;34m\u001b[0m\u001b[0;34m\u001b[0m\u001b[0m\n\u001b[0;32m----> 2\u001b[0;31m \u001b[0mC0\u001b[0m \u001b[0;34m=\u001b[0m \u001b[0mnp\u001b[0m\u001b[0;34m.\u001b[0m\u001b[0mcorrcoef\u001b[0m\u001b[0;34m(\u001b[0m\u001b[0mZ\u001b[0m\u001b[0;34m,\u001b[0m\u001b[0mrowvar\u001b[0m\u001b[0;34m=\u001b[0m\u001b[0;36m0\u001b[0m\u001b[0;34m)\u001b[0m\u001b[0;34m\u001b[0m\u001b[0;34m\u001b[0m\u001b[0m\n\u001b[0m\u001b[1;32m      3\u001b[0m \u001b[0mC0\u001b[0m \u001b[0;34m=\u001b[0m \u001b[0mC0\u001b[0m\u001b[0;34m[\u001b[0m\u001b[0;36m0\u001b[0m\u001b[0;34m,\u001b[0m\u001b[0;36m1\u001b[0m\u001b[0;34m]\u001b[0m\u001b[0;34m\u001b[0m\u001b[0;34m\u001b[0m\u001b[0m\n\u001b[1;32m      4\u001b[0m \u001b[0mprint\u001b[0m\u001b[0;34m(\u001b[0m\u001b[0;34m\"Correlation Matrix (C0):\\n\"\u001b[0m\u001b[0;34m,\u001b[0m \u001b[0mC0\u001b[0m\u001b[0;34m)\u001b[0m\u001b[0;34m\u001b[0m\u001b[0;34m\u001b[0m\u001b[0m\n",
            "\u001b[0;32m/usr/local/lib/python3.11/dist-packages/numpy/lib/_function_base_impl.py\u001b[0m in \u001b[0;36mcorrcoef\u001b[0;34m(x, y, rowvar, bias, ddof, dtype)\u001b[0m\n\u001b[1;32m   2912\u001b[0m         warnings.warn('bias and ddof have no effect and are deprecated',\n\u001b[1;32m   2913\u001b[0m                       DeprecationWarning, stacklevel=2)\n\u001b[0;32m-> 2914\u001b[0;31m     \u001b[0mc\u001b[0m \u001b[0;34m=\u001b[0m \u001b[0mcov\u001b[0m\u001b[0;34m(\u001b[0m\u001b[0mx\u001b[0m\u001b[0;34m,\u001b[0m \u001b[0my\u001b[0m\u001b[0;34m,\u001b[0m \u001b[0mrowvar\u001b[0m\u001b[0;34m,\u001b[0m \u001b[0mdtype\u001b[0m\u001b[0;34m=\u001b[0m\u001b[0mdtype\u001b[0m\u001b[0;34m)\u001b[0m\u001b[0;34m\u001b[0m\u001b[0;34m\u001b[0m\u001b[0m\n\u001b[0m\u001b[1;32m   2915\u001b[0m     \u001b[0;32mtry\u001b[0m\u001b[0;34m:\u001b[0m\u001b[0;34m\u001b[0m\u001b[0;34m\u001b[0m\u001b[0m\n\u001b[1;32m   2916\u001b[0m         \u001b[0md\u001b[0m \u001b[0;34m=\u001b[0m \u001b[0mdiag\u001b[0m\u001b[0;34m(\u001b[0m\u001b[0mc\u001b[0m\u001b[0;34m)\u001b[0m\u001b[0;34m\u001b[0m\u001b[0;34m\u001b[0m\u001b[0m\n",
            "\u001b[0;32m/usr/local/lib/python3.11/dist-packages/numpy/lib/_function_base_impl.py\u001b[0m in \u001b[0;36mcov\u001b[0;34m(m, y, rowvar, bias, ddof, fweights, aweights, dtype)\u001b[0m\n\u001b[1;32m   2684\u001b[0m     \u001b[0mm\u001b[0m \u001b[0;34m=\u001b[0m \u001b[0mnp\u001b[0m\u001b[0;34m.\u001b[0m\u001b[0masarray\u001b[0m\u001b[0;34m(\u001b[0m\u001b[0mm\u001b[0m\u001b[0;34m)\u001b[0m\u001b[0;34m\u001b[0m\u001b[0;34m\u001b[0m\u001b[0m\n\u001b[1;32m   2685\u001b[0m     \u001b[0;32mif\u001b[0m \u001b[0mm\u001b[0m\u001b[0;34m.\u001b[0m\u001b[0mndim\u001b[0m \u001b[0;34m>\u001b[0m \u001b[0;36m2\u001b[0m\u001b[0;34m:\u001b[0m\u001b[0;34m\u001b[0m\u001b[0;34m\u001b[0m\u001b[0m\n\u001b[0;32m-> 2686\u001b[0;31m         \u001b[0;32mraise\u001b[0m \u001b[0mValueError\u001b[0m\u001b[0;34m(\u001b[0m\u001b[0;34m\"m has more than 2 dimensions\"\u001b[0m\u001b[0;34m)\u001b[0m\u001b[0;34m\u001b[0m\u001b[0;34m\u001b[0m\u001b[0m\n\u001b[0m\u001b[1;32m   2687\u001b[0m \u001b[0;34m\u001b[0m\u001b[0m\n\u001b[1;32m   2688\u001b[0m     \u001b[0;32mif\u001b[0m \u001b[0my\u001b[0m \u001b[0;32mis\u001b[0m \u001b[0;32mnot\u001b[0m \u001b[0;32mNone\u001b[0m\u001b[0;34m:\u001b[0m\u001b[0;34m\u001b[0m\u001b[0;34m\u001b[0m\u001b[0m\n",
            "\u001b[0;31mValueError\u001b[0m: m has more than 2 dimensions"
          ]
        }
      ]
    },
    {
      "cell_type": "markdown",
      "source": [
        "**Task 2.4: Perform PCA** \\\\\n",
        "To do: replace `...` below to perform PCA on $Z$ \\\\\n",
        "(Hint: the command `PCA()` initialize a PCA object and  \\\\\n",
        "the command `pca.fit(X)` compute the principal components based on the dataset `X`)"
      ],
      "metadata": {
        "id": "gX-ZzEqpj6GI"
      }
    },
    {
      "cell_type": "code",
      "source": [
        "# Step 4: Perform PCA\n",
        "pca = ...\n",
        "..."
      ],
      "metadata": {
        "id": "EdFOfbACaCkI"
      },
      "execution_count": null,
      "outputs": []
    },
    {
      "cell_type": "markdown",
      "source": [
        "**Task 2.5: Extract the loadings (eigenvectors) and eigenvalues** \\\\\n",
        "To do: replace `...` below to find the loadings (eigenvectors) and eigenvalues from PCA result (SVD of $C_0$) \\\\\n",
        "(Hint: the command `pca.components_.T` extracts the loadings (eigenvectors) and \\\\\n",
        "the command  `pca.explained_variance_` extracts the eigenvalues from the PCA result)\n"
      ],
      "metadata": {
        "id": "8I0OgChzDlzF"
      }
    },
    {
      "cell_type": "code",
      "source": [
        "# Step 5.1: Extract the loadings (eigenvectors)\n",
        "loadings = ...\n",
        "loadings = ...\n",
        "print(\"Loadings (Eigenvectors):\\n\", loadings)\n",
        "\n",
        "# Step 5.2: Extract the eigenvalues\n",
        "eigenvalues = ...\n",
        "eigenvalues = ...\n",
        "print(\"\\nEigenvalues:\\n\", eigenvalues)"
      ],
      "metadata": {
        "id": "E0foFlzeDiv8"
      },
      "execution_count": null,
      "outputs": []
    },
    {
      "cell_type": "markdown",
      "source": [
        "**Task 2.6: Compute specified sums $\\mathbf{y}_1$ and $\\mathbf{y}_2$** \\\\\n",
        "To do: replace `...` below to calculate information about $\\mathbf{y}_1$ and $\\mathbf{y}_2$"
      ],
      "metadata": {
        "id": "KpiIUIBjNftO"
      }
    },
    {
      "cell_type": "code",
      "source": [
        "# Step 6.1: Compute the specified sums\n",
        "y1 = ...\n",
        "y2 = ...\n",
        "\n",
        "\n",
        "# Step 6.2: Compute column means of y1 and y2\n",
        "mean_y1 = ...\n",
        "mean_y2 = ...\n",
        "print(\"mean of y1 = \")\n",
        "print(mean_y1)\n",
        "print(\"\\nmean of y2 = \")\n",
        "print(mean_y2)\n",
        "\n",
        "# Step 6.3: Compute column standard deviations of y1 and y2\n",
        "std_dev_y1 = ...\n",
        "std_dev_y2 = ...\n",
        "print(\"\\nstandard deviation of y1 = \")\n",
        "print(std_dev_y1)\n",
        "print(\"\\nstandard deviation of y2 = \")\n",
        "print(std_dev_y2)\n",
        "\n",
        "# Step 6.4: Normalize y1 and y2\n",
        "y1_normalized = ...\n",
        "y2_normalized = ...\n",
        "\n",
        "print(\"\\nnormalized y1 : \")\n",
        "print(y1_normalized)\n",
        "print(\"normalized y2 : \")\n",
        "print(y2_normalized)\n",
        "\n",
        "# Step 6.5: Add y1_normalized and y2_normalized to Z as fifth and sixth columns\n",
        "newZ = ...\n",
        "print(\"\\nnew Z: \")\n",
        "print(newZ)\n",
        "\n",
        "# Step 6.6: Compute the correlation matrix with y1_normalized and y2_normalized\n",
        "newC0 = ...\n",
        "newC0 = np.round(newC0, 4)\n",
        "print(\"\\nnew C_0: \")\n",
        "print(newC0)\n",
        "\n",
        "# Step 6.7: Add row and column labels from newC0\n",
        "newC0_df = pd.DataFrame(newC0)\n",
        "newC0_df.index = [\"MT*\", \"FE*\", \"Qav*\", \"Tav*\", \"y1\", \"y2\"]\n",
        "newC0_df.columns = [\"MT*\", \"FE*\", \"Qav*\", \"Tav*\", \"y1\", \"y2\"]\n",
        "print(\"\\nnew C_0 with labels: \")\n",
        "print(newC0_df)"
      ],
      "metadata": {
        "id": "89HWCYYlHgbP"
      },
      "execution_count": null,
      "outputs": []
    },
    {
      "cell_type": "markdown",
      "source": [
        "**Task 2.7: Compute the Proportion of Variance Explained** \\\\\n",
        "To do: replace `...` below to calculate the proportion of variance explained (eigenvalues) by each principal component"
      ],
      "metadata": {
        "id": "vRofXxc6QjYL"
      }
    },
    {
      "cell_type": "code",
      "source": [
        "# Step 6: Compute the proportion of variance explained\n",
        "proportion_variance = ...\n",
        "proportion_variance = ...\n",
        "print(\"Proportion of Variance Explained:\\n\", proportion_variance)"
      ],
      "metadata": {
        "id": "bgL9wB4_Qjqu"
      },
      "execution_count": null,
      "outputs": []
    },
    {
      "cell_type": "markdown",
      "source": [
        "**Task 2.8: Find the principal components** \\\\\n",
        "To do: replace `...` below to find the principal components from the PCA result \\\\\n",
        "(Hint: the command `pca.transform(X)` returns the principal components from the PCA result)"
      ],
      "metadata": {
        "id": "zMOrOKvmRSn1"
      }
    },
    {
      "cell_type": "code",
      "source": [
        "# Step 11: Compute the principal components\n",
        "principal_components = ...\n",
        "principal_components = ...\n",
        "print(\"Principal Components:\\n\", principal_components)"
      ],
      "metadata": {
        "id": "kqdLL4IzRvtJ"
      },
      "execution_count": null,
      "outputs": []
    },
    {
      "cell_type": "markdown",
      "source": [
        "**Task 2.9: Print the results**"
      ],
      "metadata": {
        "id": "QsM4thBnUXaW"
      }
    },
    {
      "cell_type": "code",
      "source": [
        "# Step 8: Print the results\n",
        "print(\"Correlation Matrix (C0):\")\n",
        "print(C0)\n",
        "print(\"\\nLoadings (Eigenvectors)\")\n",
        "print(loadings)\n",
        "print(\"\\nEigenvalues:\")\n",
        "print(eigenvalues)\n",
        "print(\"\\nProportion of Variance Explained:\")\n",
        "print(proportion_variance)\n",
        "print(\"\\nPrincipal Components:\")\n",
        "print(principal_components)"
      ],
      "metadata": {
        "id": "Z3NBJH5SUaFK"
      },
      "execution_count": null,
      "outputs": []
    },
    {
      "cell_type": "code",
      "source": [
        "# Plotting the principal axes\n",
        "plt.scatter(principal_components[:, 0], principal_components[:, 1], color='blue')\n",
        "plt.xlabel('PC1')\n",
        "plt.ylabel('PC2')\n",
        "plt.title('Scatter Plot with Principal Axes')\n",
        "plt.axhline(0, color='gray')\n",
        "plt.axvline(0, color='gray')\n",
        "plt.arrow(0, 0, loadings[0, 0], loadings[1, 0], color='red', linewidth=2, label='PC1')\n",
        "plt.arrow(0, 0, loadings[0, 1], loadings[1, 1], color='green', linewidth=2, label='PC2')\n",
        "plt.legend(loc='upper right')\n",
        "plt.show()"
      ],
      "metadata": {
        "id": "CnhH-QwuI6_k"
      },
      "execution_count": null,
      "outputs": []
    },
    {
      "cell_type": "markdown",
      "source": [
        "# Exercise 3: Tests scores in Algebra, Trigonometry, English Literature and Chinese Literature"
      ],
      "metadata": {
        "id": "KJBo1xnHkwz3"
      }
    },
    {
      "cell_type": "markdown",
      "source": [
        "**1.8 Exercise 3** \\\\\n",
        "Principal Component Analysis: Test Scores in Mathematics, English Literature , and Chinese Literature\n",
        "\n",
        "A group of ten students took four tests: two in mathematics (Algebra (abbreviated as $Alg$) and Trigonometry (abbreviated as $Trig$)), one in English Literature (abbreviated as $Englit$), and one in Chinese Literature (abbreviated as $Chilit$). The following table presents both the original and the scaled scores.\n",
        "\n",
        "**1.8.1 Original and Scaled Test Scores** \\\\\n",
        "\n",
        "$$\n",
        "\\begin{array}{cccccccc}\n",
        "\\hline\n",
        "Student & Alg & Trig & Englit & Chilit \\\\\n",
        "\\hline\n",
        "1  & 95 & 88 & 65 & 68 \\\\\n",
        "2  & 87 & 92 & 70 & 74 \\\\\n",
        "3  & 75 & 78 & 75 & 72 \\\\\n",
        "4  & 74 & 70 & 85 & 81 \\\\\n",
        "5  & 46 & 51 & 92 & 95 \\\\\n",
        "6  & 62 & 55 & 88 & 90 \\\\\n",
        "7  & 82 & 91 & 85 & 90 \\\\\n",
        "8  & 68 & 52 & 55 & 60 \\\\\n",
        "9  & 82 & 78 & 80 & 75 \\\\\n",
        "10 & 65 & 70 & 72 & 70 \\\\\n",
        "\\hline\n",
        "\\end{array}\n",
        "$$"
      ],
      "metadata": {
        "id": "Gcbwanmtl3LP"
      }
    },
    {
      "cell_type": "markdown",
      "source": [
        "Perferm the following tasks: (refer to exercise 2) \\\\\n",
        "1. * **Original Data**: The data is stored in a NumPy array.\n",
        "   * **Compute Column Means**: Calculate the mean for each column using `np.mean`.\n",
        "   *  **Compute Column Standard Deviations**: Calculate the standard deviation for each column using `np.std` with `ddof=1` for sample standard deviation.\n",
        "2. * **Standardize the Data**: Use the formula\n",
        "$$\n",
        "\\textbf{z} = \\frac{\\textbf{x}-\\bar{\\textbf{x}}}{s_\\textbf{x}}\n",
        "$$\n",
        "to standardize the data. (obtaining a scaled variable with mean 0 and standard devation 1)\n",
        "   * **Round the $Z$ Matrix**: Round the standardized values to four decimal places using `np.round`.\n",
        "3. * **Compute the Correlation Matrix**: Calculate the correlation matrix of the standardized data using `np.corrcoef`.\n",
        "   * **Round the $C_0$ Matrix**: Round the values to four decimal places using `np.round`.\n",
        "4. **Perform PCA**: Use PCA from `sklearn.decomposition` to perform principal component analysis.\n",
        "5. * **Extract the Loadings**: Get the eigenvectors (loadings) from the PCA result using `pca.components_`.\n",
        "   * **Extract the Eigenvalues**: Get the eigenvalues from the PCA result using `pca.explained_variance_`.\n",
        "6. * **Compute Specified Sums `y1` and `y2`**: Calculate the specified sums using the loadings and standardized data.\n",
        "  * **Compute Column Means of `y1` and `y2`**: Calculate the mean of the computed sums `y1` and `y2`.\n",
        "  * **Compute Column Standard Deviations of `y1` and `y2`**: Calculate the standard deviation of `y1` and `y2`.\n",
        "  * **Normalize `y1` and `y2`**: Normalize `y1` and `y2` using their respective means and standard deviations.\n",
        "  * **Add `y1_normalized` and `y2_normalized` to Z**: Add the normalized `y1` and `y2` as new columns to the standardized data matrix.\n",
        "  * **Compute Correlation Matrix with `y1_normalized` and `y2_normalized`**: Calculate the correlation matrix including the normalized `y1` and `y2`.\n",
        "  * **Remove Row and Column Labels from `newC0`**: Remove the row and column labels from the new correlation matrix.\n",
        "7. **Compute the Proportion of Variance Explained**: Calculate the proportion of variance explained by each principal component.\n",
        "8. **Compute the Principal Components**: Get the principal components from the PCA result using `pca.transform`.\n",
        "9. * **Print the Results**: Display the correlation matrix, loadings, eigenvalues, proportion of variance explained, and principal components.\n",
        "   * **Plot Principal Axes**: Plot the principal axes (PC1 and PC2) in a scatter plot with different colors.\n"
      ],
      "metadata": {
        "id": "yKkCONs7O21h"
      }
    },
    {
      "cell_type": "code",
      "source": [
        "import numpy as np\n",
        "from sklearn.preprocessing import StandardScaler\n",
        "from sklearn.decomposition import PCA\n",
        "\n",
        "# Step 1,1: Original data\n",
        "data = ...\n",
        "\n",
        "# Step 1.2: Compute column means\n",
        "mean_values = ...\n",
        "print(\"Column Means:\", mean_values)\n",
        "\n",
        "# Step 1.3: Compute column standard deviations\n",
        "std_dev_values = ...\n",
        "print(\"Column Standard Deviations:\", std_dev_values)"
      ],
      "metadata": {
        "id": "BhfzfdDAoa36"
      },
      "execution_count": null,
      "outputs": []
    },
    {
      "cell_type": "code",
      "source": [
        "# Step 2.1: Standardize the data\n",
        "Z = ...\n",
        "\n",
        "# Step 2.2: Round the Z matrix to four decimal places\n",
        "Z = ...\n",
        "print(\"Standardized Data (Z):\\n\", Z)"
      ],
      "metadata": {
        "id": "ZUciJylMoa36"
      },
      "execution_count": null,
      "outputs": []
    },
    {
      "cell_type": "code",
      "source": [
        "# Step 3: Compute the correlation matrix\n",
        "C0 = ...\n",
        "C0 = ...\n",
        "print(\"Correlation Matrix (C0):\\n\", C0)"
      ],
      "metadata": {
        "id": "M0iJVzBloa36"
      },
      "execution_count": null,
      "outputs": []
    },
    {
      "cell_type": "code",
      "source": [
        "# Step 4: Perform PCA\n",
        "pca = ...\n",
        "..."
      ],
      "metadata": {
        "id": "8fFTYz3Goa37"
      },
      "execution_count": null,
      "outputs": []
    },
    {
      "cell_type": "code",
      "source": [
        "# Step 5.1: Extract the loadings (eigenvectors)\n",
        "loadings = ...\n",
        "loadings = ...\n",
        "print(\"Loadings (Eigenvectors):\\n\", loadings)\n",
        "\n",
        "# Step 5.2: Extract the eigenvalues\n",
        "eigenvalues = ...\n",
        "eigenvalues = ...\n",
        "print(\"\\nEigenvalues:\\n\", eigenvalues)"
      ],
      "metadata": {
        "id": "z4s_bbkuoa37"
      },
      "execution_count": null,
      "outputs": []
    },
    {
      "cell_type": "code",
      "source": [
        "# Step 6: Compute the proportion of variance explained\n",
        "proportion_variance = ...\n",
        "proportion_variance = ...\n",
        "print(\"Proportion of Variance Explained:\\n\", proportion_variance)"
      ],
      "metadata": {
        "id": "b3Kt50xboa37"
      },
      "execution_count": null,
      "outputs": []
    },
    {
      "cell_type": "code",
      "source": [
        "# Step 11: Compute the principal components\n",
        "principal_components = ...\n",
        "principal_components = ...\n",
        "print(\"Principal Components:\\n\", principal_components)"
      ],
      "metadata": {
        "id": "qtcOPvzqoa37"
      },
      "execution_count": null,
      "outputs": []
    },
    {
      "cell_type": "code",
      "source": [
        "# Step 8: Print the results\n",
        "print(\"Correlation Matrix (C0):\")\n",
        "print(C0)\n",
        "print(\"\\nLoadings (Eigenvectors)\")\n",
        "print(loadings)\n",
        "print(\"\\nEigenvalues:\")\n",
        "print(eigenvalues)\n",
        "print(\"\\nProportion of Variance Explained:\")\n",
        "print(proportion_variance)\n",
        "print(\"\\nPrincipal Components:\")\n",
        "print(principal_components)"
      ],
      "metadata": {
        "id": "B8Mg-sKzoa37"
      },
      "execution_count": null,
      "outputs": []
    }
  ]
}