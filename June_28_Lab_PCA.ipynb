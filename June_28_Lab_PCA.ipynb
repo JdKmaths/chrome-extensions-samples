{
  "nbformat": 4,
  "nbformat_minor": 0,
  "metadata": {
    "colab": {
      "provenance": []
    },
    "kernelspec": {
      "name": "python3",
      "display_name": "Python 3"
    },
    "language_info": {
      "name": "python"
    }
  },
  "cells": [
    {
      "cell_type": "markdown",
      "source": [
        "# Applications of Principal Component Analysis\n",
        "\n"
      ],
      "metadata": {
        "id": "RHdQOsqU48SA"
      }
    },
    {
      "cell_type": "markdown",
      "source": [
        "# Exercise 1: Statistical Computations on Vectors"
      ],
      "metadata": {
        "id": "APD2wU5Ndu8X"
      }
    },
    {
      "cell_type": "markdown",
      "source": [
        "**1.5 Exercise 1** \\\\\n",
        "Let\n",
        "\n",
        "$$\n",
        "\\textbf{x} = \\begin{bmatrix}\n",
        "4 \\\\\n",
        "-2 \\\\\n",
        "7\n",
        "\\end{bmatrix},\n",
        "\\:\\:\\:\\:\\:\n",
        "\\textbf{y} = \\begin{bmatrix}\n",
        "3 \\\\\n",
        "4 \\\\\n",
        "5\n",
        "\\end{bmatrix}.\n",
        "$$\n",
        "\n",
        "Compute the following quantities: \\\\\n",
        "(a) The means $\\bar{x}$ and $\\bar{y}$. \\\\\n",
        "(b) The variances $s_\\textbf{x}^2$ and  $s_\\textbf{y}^2$. \\\\\n",
        "(c) The covariance $\\text{cov}(\\textbf{x},\\textbf{y})$. \\\\\n",
        "(d) The correlation between $\\textbf{x}$ and $\\textbf{y}$."
      ],
      "metadata": {
        "id": "ifkSpAoaeIcg"
      }
    },
    {
      "cell_type": "markdown",
      "source": [
        "**Task 1(a): Compute the means $\\bar{x}$ and $\\bar{y}$** \\\\\n",
        "To do: replace `...` below to input the vectors $\\textbf{x}$ and $\\textbf{y}$ and then compute the means $\\bar{x}$ and $\\bar{y}$ \\\\\n",
        "(Hint: the command `np.mean(a)` returns the arithmetic mean of array `a`)"
      ],
      "metadata": {
        "id": "0-TUyHcYgOqK"
      }
    },
    {
      "cell_type": "code",
      "execution_count": 20,
      "metadata": {
        "id": "Ur_o5xju4zWY",
        "colab": {
          "base_uri": "https://localhost:8080/"
        },
        "outputId": "d9cee6a3-0739-4fd0-c793-168aee43e128"
      },
      "outputs": [
        {
          "output_type": "stream",
          "name": "stdout",
          "text": [
            "(a) Sample Means:\n",
            "Mean of x: 3.0\n",
            "Mean of y: 4.0\n"
          ]
        }
      ],
      "source": [
        "import numpy as np\n",
        "\n",
        "# Define the input vectors x and y\n",
        "x = np.array([4,-2,7])\n",
        "y = np.array([3,4,5])\n",
        "\n",
        "# (a) Compute sample means\n",
        "mean_x = np.mean(x) # Mean of vector x\n",
        "mean_y = np.mean(y) # Mean of vector y\n",
        "\n",
        "# Output the results\n",
        "print(\"(a) Sample Means:\")\n",
        "print(\"Mean of x:\", mean_x)\n",
        "print(\"Mean of y:\", mean_y)"
      ]
    },
    {
      "cell_type": "markdown",
      "source": [
        "**Task 1(b): Compute the variances $s_\\textbf{x}^2$ and  $s_\\textbf{y}^2$** \\\\\n",
        "To do: replace `...` below to compute the sample variances $s_\\textbf{x}^2$ and  $s_\\textbf{y}^2$ \\\\\n",
        "(Hint: the command `np.var(a, ddof=1)` returns the sample variance of array `a`)"
      ],
      "metadata": {
        "id": "Lj8jUuWJiVOO"
      }
    },
    {
      "cell_type": "code",
      "source": [
        "# (b) Compute sample variances (using ddof=1 for sample variance)\n",
        "var_x = np.var(x,ddof=1)  # Sample variance of x\n",
        "var_y = np.var(y,ddof=1)  # Sample variance of y\n",
        "\n",
        "print(\"(b) Sample Variances:\")\n",
        "print(\"Variance of x:\", var_x)\n",
        "print(\"Variance of y:\", var_y)"
      ],
      "metadata": {
        "id": "3x7tdUW6jIge"
      },
      "execution_count": null,
      "outputs": []
    },
    {
      "cell_type": "markdown",
      "source": [
        "**Task 1(c): Compute the covariance $\\text{cov}(\\textbf{x},\\textbf{y})$** \\\\\n",
        "To do: replace `...` below to compute the sample covariance $\\text{cov}(\\textbf{x},\\textbf{y})$ \\\\\n",
        "(Hint: the command `np.cov(a, b)` returns the covariance matrix of arrays `a` and `b`, in which the (0, 1)-entry is the covariance of arrays `a` and `b`)"
      ],
      "metadata": {
        "id": "MMCoHsE5jwCg"
      }
    },
    {
      "cell_type": "code",
      "source": [
        "# (c) Compute sample covariance\n",
        "# np.cov returns a covariance matrix; we extract the covariance, which is the [0, 1] element\n",
        "cov_matrix = np.cov(x,y)\n",
        "cov_xy = cov_matrix[0,1]\n",
        "\n",
        "print(\"(c) Sample Covariance:\")\n",
        "print(\"Covariance between x and y:\", cov_xy)"
      ],
      "metadata": {
        "id": "f2TUZu9lkDuo",
        "colab": {
          "base_uri": "https://localhost:8080/"
        },
        "outputId": "2709fd5b-1a60-4df4-ff6f-4794097cea8e"
      },
      "execution_count": 22,
      "outputs": [
        {
          "output_type": "stream",
          "name": "stdout",
          "text": [
            "(c) Sample Covariance:\n",
            "Covariance between x and y: 1.5\n"
          ]
        }
      ]
    },
    {
      "cell_type": "markdown",
      "source": [
        "**Task 1(d): Compute the correlation between $\\textbf{x}$ and $\\textbf{y}$** \\\\\n",
        "To do: replace `...` below to compute the sample correlation between $\\textbf{x}$ and $\\textbf{y}$ \\\\\n",
        "(Hint: the command `np.corrcoef(a, b)` returns the Pearson product-moment correlation coefficients matrix of arrays `a` and `b`, in which the (0, 1)-entry is the sample correlation of arrays `a` and `b`)"
      ],
      "metadata": {
        "id": "HAYQWXsZmEKX"
      }
    },
    {
      "cell_type": "code",
      "source": [
        "# (d) Compute sample correlation\n",
        "cor_xy = np.corrcoef(x,y)[0,1]  # Pearson correlation coefficient\n",
        "\n",
        "print(\"(d) Sample Correlation:\")\n",
        "print(\"Correlation between x and y:\", cor_xy)"
      ],
      "metadata": {
        "id": "mabQBQLFmTDo",
        "colab": {
          "base_uri": "https://localhost:8080/"
        },
        "outputId": "206aaf21-cf99-4717-e627-7fd2bd94ecf0"
      },
      "execution_count": 24,
      "outputs": [
        {
          "output_type": "stream",
          "name": "stdout",
          "text": [
            "(d) Sample Correlation:\n",
            "Correlation between x and y: 0.3273268353539886\n"
          ]
        }
      ]
    },
    {
      "cell_type": "markdown",
      "source": [
        "# Exercise 2: Performance of Honors Calculus class students"
      ],
      "metadata": {
        "id": "8ZxEAwdnqV84"
      }
    },
    {
      "cell_type": "markdown",
      "source": [
        "**1.7 Exercise 2** \\\\\n",
        "The set of data in the table below was collected by one of the authors from an Honors Calculus class of 14 students. The four variables are:\n",
        "* ${MT}$: a score from a national test (range 1 to 36)\n",
        "* ${FE}$: final exam score (range 0 to 200)\n",
        "* ${Qav}$: mean of eight quiz scores (range 0 to 100)\n",
        "* ${Tav}$: mean of three test scores (range 0 to 100)\n",
        "\n",
        "**1.7.1 Original Data** \\\\\n",
        "\n",
        "$$\n",
        "\\begin{array}{cccccccc}\n",
        "\\hline\n",
        "Student & MT & FE & Qav & Tav \\\\\n",
        "\\hline\n",
        "1 & 33 & 181 & 95 & 89 \\\\\n",
        "2 & 31 & 169 & 81 & 89 \\\\\n",
        "3 & 21 & 176 & 65 & 68 \\\\\n",
        "4 & 25 & 181 & 66 & 90 \\\\\n",
        "5 & 29 & 169 & 89 & 81 \\\\\n",
        "6 & 24 & 103 & 61 & 57 \\\\\n",
        "7 & 24 & 150 & 81 & 76 \\\\\n",
        "8 & 29 & 147 & 86 & 76 \\\\\n",
        "9 & 36 & 181 & 98 & 102 \\\\\n",
        "10 & 26 & 163 & 72 & 70 \\\\\n",
        "11 & 31 & 163 & 95 & 81 \\\\\n",
        "12 & 29 & 147 & 65 & 67 \\\\\n",
        "13 & 23 & 160 & 62 & 68 \\\\\n",
        "14 & 26 & 100 & 63 & 56 \\\\ \\hline\n",
        "\\end{array}\n",
        "$$\n"
      ],
      "metadata": {
        "id": "hcbTIhuO69J8"
      }
    },
    {
      "cell_type": "markdown",
      "source": [
        "Perferm the following tasks: \\\\\n",
        "1. * **Original Data**: The data is stored in a NumPy array.\n",
        "   * **Compute Column Means**: Calculate the mean for each column using `np.mean`.\n",
        "   *  **Compute Column Standard Deviations**: Calculate the standard deviation for each column using `np.std` with `ddof=1` for sample standard deviation.\n",
        "2. * **Standardize the Data**: Use the formula\n",
        "$$\n",
        "\\textbf{z} = \\frac{\\textbf{x}-\\bar{\\textbf{x}}}{s_\\textbf{x}}\n",
        "$$\n",
        "to standardize the data. (obtaining a scaled variable with mean 0 and standard devation 1)\n",
        "   * **Round the $Z$ Matrix**: Round the standardized values to four decimal places using `np.round`.\n",
        "3. * **Compute the Correlation Matrix**: Calculate the correlation matrix of the standardized data using `np.corrcoef`.\n",
        "   * **Round the $C_0$ Matrix**: Round the values to four decimal places using `np.round`.\n",
        "4. **Perform PCA**: Use PCA from `sklearn.decomposition` to perform principal component analysis.\n",
        "5. * **Extract the Loadings**: Get the eigenvectors (loadings) from the PCA result using `pca.components_`.\n",
        "   * **Extract the Eigenvalues**: Get the eigenvalues from the PCA result using `pca.explained_variance_`.\n",
        "6. * **Compute Specified Sums `y1` and `y2`**: Calculate the specified sums using the loadings and standardized data.\n",
        "  * **Compute Column Means of `y1` and `y2`**: Calculate the mean of the computed sums `y1` and `y2`.\n",
        "  * **Compute Column Standard Deviations of `y1` and `y2`**: Calculate the standard deviation of `y1` and `y2`.\n",
        "  * **Normalize `y1` and `y2`**: Normalize `y1` and `y2` using their respective means and standard deviations.\n",
        "  * **Add `y1_normalized` and `y2_normalized` to Z**: Add the normalized `y1` and `y2` as new columns to the standardized data matrix.\n",
        "  * **Compute Correlation Matrix with `y1_normalized` and `y2_normalized`**: Calculate the correlation matrix including the normalized `y1` and `y2`.\n",
        "  * **Remove Row and Column Labels from `newC0`**: Remove the row and column labels from the new correlation matrix.\n",
        "7. **Compute the Proportion of Variance Explained**: Calculate the proportion of variance explained by each principal component.\n",
        "8. **Compute the Principal Components**: Get the principal components from the PCA result using `pca.transform`.\n",
        "9. * **Print the Results**: Display the correlation matrix, loadings, eigenvalues, proportion of variance explained, and principal components.\n",
        "   * **Plot Principal Axes**: Plot the principal axes (PC1 and PC2) in a scatter plot with different colors.\n"
      ],
      "metadata": {
        "id": "t7y7Esda0PHM"
      }
    },
    {
      "cell_type": "markdown",
      "source": [
        "**Task 2.1: Compute the means and standard deviations of the variables** \\\\\n",
        "To do: replace `...` below to compute the means and standard deviations of the variables $MT, FE, Qav, Tav$ \\\\\n",
        "(Hint: the command `np.mean(a, axis=0)` returns the arithmetic mean of array `a` along the columns and \\\\\n",
        "the command `np.std(a, axis=0, ddof=1)` returns the sample standard deviation of array `a` along the columns)"
      ],
      "metadata": {
        "id": "OZBS_MNHDie4"
      }
    },
    {
      "cell_type": "code",
      "source": [
        "import numpy as np\n",
        "from sklearn.preprocessing import StandardScaler\n",
        "from sklearn.decomposition import PCA\n",
        "import matplotlib.pyplot as plt\n",
        "import pandas as pd\n",
        "\n",
        "# Step 1,1: Original data\n",
        "values = np.array([[33,31,21,25,29,24,24,29,36,26,31,29,23,26],\n",
        "          [181,169,176,181,169,103,150,147,181,163,163,147,160,100],\n",
        "          [95,81,65,66,89,61,81,86,98,72,95,65,62,63],\n",
        "          [89,89,68,90,81,57,76,76,102,70,81,67,68,56]])\n",
        "# Step 1.2: Compute column means\n",
        "values =values.transpose()\n",
        "mean_values = np.mean(values,axis=0)\n",
        "print(\"Column Means:\", mean_values)\n",
        "\n",
        "# Step 1.3: Compute column standard deviations\n",
        "std_dev_values = np.std(values,axis=0,ddof=0)\n",
        "print(\"Column Standard Deviations:\", std_dev_values)"
      ],
      "metadata": {
        "id": "2EcJUG0XDePw",
        "colab": {
          "base_uri": "https://localhost:8080/"
        },
        "outputId": "c235c9e0-eacc-4c1b-a7fd-d260e7b5cc57"
      },
      "execution_count": 14,
      "outputs": [
        {
          "output_type": "stream",
          "name": "stdout",
          "text": [
            "Column Means: [ 27.64285714 156.42857143  77.07142857  76.42857143]\n",
            "Column Standard Deviations: [ 4.06390282 25.16719601 13.24744873 12.71508826]\n"
          ]
        }
      ]
    },
    {
      "cell_type": "markdown",
      "source": [],
      "metadata": {
        "id": "tp7mQ7Q_cW4J"
      }
    },
    {
      "cell_type": "markdown",
      "source": [
        "**Task 2.2: Find the standardized matrix $Z$ of the data** \\\\\n",
        "To do: replace `...` below to compute the the standardized matrix $Z$ with scaled variables (standard score)"
      ],
      "metadata": {
        "id": "dw4Fkb4BEH_u"
      }
    },
    {
      "cell_type": "code",
      "source": [
        "# Step 2.1: Standardize the data\n",
        "Z = (values - mean_values) / std_dev_values\n",
        "#print(Z)\n",
        "# Step 2.2: Round the Z matrix to four decimal places\n",
        "Z = np.round(Z,4)\n",
        "print(\"Standardized Data (Z):\\n\", Z)"
      ],
      "metadata": {
        "id": "a0PEol4MR7Dc",
        "colab": {
          "base_uri": "https://localhost:8080/"
        },
        "outputId": "6babe459-f618-4c59-de4e-a32c57a94d17"
      },
      "execution_count": 26,
      "outputs": [
        {
          "output_type": "stream",
          "name": "stdout",
          "text": [
            "Standardized Data (Z):\n",
            " [[ 1.3182  0.9763  1.3534  0.9887]\n",
            " [ 0.8261  0.4995  0.2966  0.9887]\n",
            " [-1.6346  0.7777 -0.9112 -0.6629]\n",
            " [-0.6503  0.9763 -0.8357  1.0673]\n",
            " [ 0.334   0.4995  0.9004  0.3595]\n",
            " [-0.8964 -2.1229 -1.2132 -1.528 ]\n",
            " [-0.8964 -0.2554  0.2966 -0.0337]\n",
            " [ 0.334  -0.3746  0.674  -0.0337]\n",
            " [ 2.0564  0.9763  1.5798  2.0111]\n",
            " [-0.4043  0.2611 -0.3828 -0.5056]\n",
            " [ 0.8261  0.2611  1.3534  0.3595]\n",
            " [ 0.334  -0.3746 -0.9112 -0.7415]\n",
            " [-1.1425  0.1419 -1.1377 -0.6629]\n",
            " [-0.4043 -2.2421 -1.0622 -1.6066]]\n"
          ]
        }
      ]
    },
    {
      "cell_type": "markdown",
      "source": [
        "**Task 2.3: Find the correlation matrix $C_0$ of the variables** \\\\\n",
        "To do: replace `...` below to compute the correlation matrix $C_0$ of the variables \\\\\n",
        "(Hint: the command `np.corrcoef(a, rowvar=False)` returns the Pearson product-moment correlation coefficients matrix of `a`, where each column of `a` represents a variable)"
      ],
      "metadata": {
        "id": "85-q2IuZTT59"
      }
    },
    {
      "cell_type": "code",
      "source": [
        "# Step 3: Compute the correlation matrix\n",
        "C0 = np.corrcoef(Z,rowvar=False)\n",
        "print(\"Correlation Matrix (C0):\\n\", C0)"
      ],
      "metadata": {
        "id": "RFTWC6nzUOdJ",
        "colab": {
          "base_uri": "https://localhost:8080/"
        },
        "outputId": "14df33c8-20dd-4ca1-beed-3104c7517f05"
      },
      "execution_count": 28,
      "outputs": [
        {
          "output_type": "stream",
          "name": "stdout",
          "text": [
            "Correlation Matrix (C0):\n",
            " [[1.         0.33601671 0.81113162 0.70104607]\n",
            " [0.33601671 1.         0.49995247 0.79583459]\n",
            " [0.81113162 0.49995247 1.         0.74870469]\n",
            " [0.70104607 0.79583459 0.74870469 1.        ]]\n"
          ]
        }
      ]
    },
    {
      "cell_type": "markdown",
      "source": [
        "**Task 2.4: Perform PCA** \\\\\n",
        "To do: replace `...` below to perform PCA on $Z$ \\\\\n",
        "(Hint: the command `PCA()` initialize a PCA object and  \\\\\n",
        "the command `pca.fit(X)` compute the principal components based on the dataset `X`)"
      ],
      "metadata": {
        "id": "gX-ZzEqpj6GI"
      }
    },
    {
      "cell_type": "code",
      "source": [
        "# Step 4: Perform PCA\n",
        "pca = PCA()\n",
        "pca.fit(Z)"
      ],
      "metadata": {
        "id": "EdFOfbACaCkI",
        "colab": {
          "base_uri": "https://localhost:8080/",
          "height": 80
        },
        "outputId": "f93b9158-1a37-4c87-cfb2-6c2ddd356a07"
      },
      "execution_count": 32,
      "outputs": [
        {
          "output_type": "execute_result",
          "data": {
            "text/plain": [
              "PCA()"
            ],
            "text/html": [
              "<style>#sk-container-id-2 {\n",
              "  /* Definition of color scheme common for light and dark mode */\n",
              "  --sklearn-color-text: #000;\n",
              "  --sklearn-color-text-muted: #666;\n",
              "  --sklearn-color-line: gray;\n",
              "  /* Definition of color scheme for unfitted estimators */\n",
              "  --sklearn-color-unfitted-level-0: #fff5e6;\n",
              "  --sklearn-color-unfitted-level-1: #f6e4d2;\n",
              "  --sklearn-color-unfitted-level-2: #ffe0b3;\n",
              "  --sklearn-color-unfitted-level-3: chocolate;\n",
              "  /* Definition of color scheme for fitted estimators */\n",
              "  --sklearn-color-fitted-level-0: #f0f8ff;\n",
              "  --sklearn-color-fitted-level-1: #d4ebff;\n",
              "  --sklearn-color-fitted-level-2: #b3dbfd;\n",
              "  --sklearn-color-fitted-level-3: cornflowerblue;\n",
              "\n",
              "  /* Specific color for light theme */\n",
              "  --sklearn-color-text-on-default-background: var(--sg-text-color, var(--theme-code-foreground, var(--jp-content-font-color1, black)));\n",
              "  --sklearn-color-background: var(--sg-background-color, var(--theme-background, var(--jp-layout-color0, white)));\n",
              "  --sklearn-color-border-box: var(--sg-text-color, var(--theme-code-foreground, var(--jp-content-font-color1, black)));\n",
              "  --sklearn-color-icon: #696969;\n",
              "\n",
              "  @media (prefers-color-scheme: dark) {\n",
              "    /* Redefinition of color scheme for dark theme */\n",
              "    --sklearn-color-text-on-default-background: var(--sg-text-color, var(--theme-code-foreground, var(--jp-content-font-color1, white)));\n",
              "    --sklearn-color-background: var(--sg-background-color, var(--theme-background, var(--jp-layout-color0, #111)));\n",
              "    --sklearn-color-border-box: var(--sg-text-color, var(--theme-code-foreground, var(--jp-content-font-color1, white)));\n",
              "    --sklearn-color-icon: #878787;\n",
              "  }\n",
              "}\n",
              "\n",
              "#sk-container-id-2 {\n",
              "  color: var(--sklearn-color-text);\n",
              "}\n",
              "\n",
              "#sk-container-id-2 pre {\n",
              "  padding: 0;\n",
              "}\n",
              "\n",
              "#sk-container-id-2 input.sk-hidden--visually {\n",
              "  border: 0;\n",
              "  clip: rect(1px 1px 1px 1px);\n",
              "  clip: rect(1px, 1px, 1px, 1px);\n",
              "  height: 1px;\n",
              "  margin: -1px;\n",
              "  overflow: hidden;\n",
              "  padding: 0;\n",
              "  position: absolute;\n",
              "  width: 1px;\n",
              "}\n",
              "\n",
              "#sk-container-id-2 div.sk-dashed-wrapped {\n",
              "  border: 1px dashed var(--sklearn-color-line);\n",
              "  margin: 0 0.4em 0.5em 0.4em;\n",
              "  box-sizing: border-box;\n",
              "  padding-bottom: 0.4em;\n",
              "  background-color: var(--sklearn-color-background);\n",
              "}\n",
              "\n",
              "#sk-container-id-2 div.sk-container {\n",
              "  /* jupyter's `normalize.less` sets `[hidden] { display: none; }`\n",
              "     but bootstrap.min.css set `[hidden] { display: none !important; }`\n",
              "     so we also need the `!important` here to be able to override the\n",
              "     default hidden behavior on the sphinx rendered scikit-learn.org.\n",
              "     See: https://github.com/scikit-learn/scikit-learn/issues/21755 */\n",
              "  display: inline-block !important;\n",
              "  position: relative;\n",
              "}\n",
              "\n",
              "#sk-container-id-2 div.sk-text-repr-fallback {\n",
              "  display: none;\n",
              "}\n",
              "\n",
              "div.sk-parallel-item,\n",
              "div.sk-serial,\n",
              "div.sk-item {\n",
              "  /* draw centered vertical line to link estimators */\n",
              "  background-image: linear-gradient(var(--sklearn-color-text-on-default-background), var(--sklearn-color-text-on-default-background));\n",
              "  background-size: 2px 100%;\n",
              "  background-repeat: no-repeat;\n",
              "  background-position: center center;\n",
              "}\n",
              "\n",
              "/* Parallel-specific style estimator block */\n",
              "\n",
              "#sk-container-id-2 div.sk-parallel-item::after {\n",
              "  content: \"\";\n",
              "  width: 100%;\n",
              "  border-bottom: 2px solid var(--sklearn-color-text-on-default-background);\n",
              "  flex-grow: 1;\n",
              "}\n",
              "\n",
              "#sk-container-id-2 div.sk-parallel {\n",
              "  display: flex;\n",
              "  align-items: stretch;\n",
              "  justify-content: center;\n",
              "  background-color: var(--sklearn-color-background);\n",
              "  position: relative;\n",
              "}\n",
              "\n",
              "#sk-container-id-2 div.sk-parallel-item {\n",
              "  display: flex;\n",
              "  flex-direction: column;\n",
              "}\n",
              "\n",
              "#sk-container-id-2 div.sk-parallel-item:first-child::after {\n",
              "  align-self: flex-end;\n",
              "  width: 50%;\n",
              "}\n",
              "\n",
              "#sk-container-id-2 div.sk-parallel-item:last-child::after {\n",
              "  align-self: flex-start;\n",
              "  width: 50%;\n",
              "}\n",
              "\n",
              "#sk-container-id-2 div.sk-parallel-item:only-child::after {\n",
              "  width: 0;\n",
              "}\n",
              "\n",
              "/* Serial-specific style estimator block */\n",
              "\n",
              "#sk-container-id-2 div.sk-serial {\n",
              "  display: flex;\n",
              "  flex-direction: column;\n",
              "  align-items: center;\n",
              "  background-color: var(--sklearn-color-background);\n",
              "  padding-right: 1em;\n",
              "  padding-left: 1em;\n",
              "}\n",
              "\n",
              "\n",
              "/* Toggleable style: style used for estimator/Pipeline/ColumnTransformer box that is\n",
              "clickable and can be expanded/collapsed.\n",
              "- Pipeline and ColumnTransformer use this feature and define the default style\n",
              "- Estimators will overwrite some part of the style using the `sk-estimator` class\n",
              "*/\n",
              "\n",
              "/* Pipeline and ColumnTransformer style (default) */\n",
              "\n",
              "#sk-container-id-2 div.sk-toggleable {\n",
              "  /* Default theme specific background. It is overwritten whether we have a\n",
              "  specific estimator or a Pipeline/ColumnTransformer */\n",
              "  background-color: var(--sklearn-color-background);\n",
              "}\n",
              "\n",
              "/* Toggleable label */\n",
              "#sk-container-id-2 label.sk-toggleable__label {\n",
              "  cursor: pointer;\n",
              "  display: flex;\n",
              "  width: 100%;\n",
              "  margin-bottom: 0;\n",
              "  padding: 0.5em;\n",
              "  box-sizing: border-box;\n",
              "  text-align: center;\n",
              "  align-items: start;\n",
              "  justify-content: space-between;\n",
              "  gap: 0.5em;\n",
              "}\n",
              "\n",
              "#sk-container-id-2 label.sk-toggleable__label .caption {\n",
              "  font-size: 0.6rem;\n",
              "  font-weight: lighter;\n",
              "  color: var(--sklearn-color-text-muted);\n",
              "}\n",
              "\n",
              "#sk-container-id-2 label.sk-toggleable__label-arrow:before {\n",
              "  /* Arrow on the left of the label */\n",
              "  content: \"▸\";\n",
              "  float: left;\n",
              "  margin-right: 0.25em;\n",
              "  color: var(--sklearn-color-icon);\n",
              "}\n",
              "\n",
              "#sk-container-id-2 label.sk-toggleable__label-arrow:hover:before {\n",
              "  color: var(--sklearn-color-text);\n",
              "}\n",
              "\n",
              "/* Toggleable content - dropdown */\n",
              "\n",
              "#sk-container-id-2 div.sk-toggleable__content {\n",
              "  max-height: 0;\n",
              "  max-width: 0;\n",
              "  overflow: hidden;\n",
              "  text-align: left;\n",
              "  /* unfitted */\n",
              "  background-color: var(--sklearn-color-unfitted-level-0);\n",
              "}\n",
              "\n",
              "#sk-container-id-2 div.sk-toggleable__content.fitted {\n",
              "  /* fitted */\n",
              "  background-color: var(--sklearn-color-fitted-level-0);\n",
              "}\n",
              "\n",
              "#sk-container-id-2 div.sk-toggleable__content pre {\n",
              "  margin: 0.2em;\n",
              "  border-radius: 0.25em;\n",
              "  color: var(--sklearn-color-text);\n",
              "  /* unfitted */\n",
              "  background-color: var(--sklearn-color-unfitted-level-0);\n",
              "}\n",
              "\n",
              "#sk-container-id-2 div.sk-toggleable__content.fitted pre {\n",
              "  /* unfitted */\n",
              "  background-color: var(--sklearn-color-fitted-level-0);\n",
              "}\n",
              "\n",
              "#sk-container-id-2 input.sk-toggleable__control:checked~div.sk-toggleable__content {\n",
              "  /* Expand drop-down */\n",
              "  max-height: 200px;\n",
              "  max-width: 100%;\n",
              "  overflow: auto;\n",
              "}\n",
              "\n",
              "#sk-container-id-2 input.sk-toggleable__control:checked~label.sk-toggleable__label-arrow:before {\n",
              "  content: \"▾\";\n",
              "}\n",
              "\n",
              "/* Pipeline/ColumnTransformer-specific style */\n",
              "\n",
              "#sk-container-id-2 div.sk-label input.sk-toggleable__control:checked~label.sk-toggleable__label {\n",
              "  color: var(--sklearn-color-text);\n",
              "  background-color: var(--sklearn-color-unfitted-level-2);\n",
              "}\n",
              "\n",
              "#sk-container-id-2 div.sk-label.fitted input.sk-toggleable__control:checked~label.sk-toggleable__label {\n",
              "  background-color: var(--sklearn-color-fitted-level-2);\n",
              "}\n",
              "\n",
              "/* Estimator-specific style */\n",
              "\n",
              "/* Colorize estimator box */\n",
              "#sk-container-id-2 div.sk-estimator input.sk-toggleable__control:checked~label.sk-toggleable__label {\n",
              "  /* unfitted */\n",
              "  background-color: var(--sklearn-color-unfitted-level-2);\n",
              "}\n",
              "\n",
              "#sk-container-id-2 div.sk-estimator.fitted input.sk-toggleable__control:checked~label.sk-toggleable__label {\n",
              "  /* fitted */\n",
              "  background-color: var(--sklearn-color-fitted-level-2);\n",
              "}\n",
              "\n",
              "#sk-container-id-2 div.sk-label label.sk-toggleable__label,\n",
              "#sk-container-id-2 div.sk-label label {\n",
              "  /* The background is the default theme color */\n",
              "  color: var(--sklearn-color-text-on-default-background);\n",
              "}\n",
              "\n",
              "/* On hover, darken the color of the background */\n",
              "#sk-container-id-2 div.sk-label:hover label.sk-toggleable__label {\n",
              "  color: var(--sklearn-color-text);\n",
              "  background-color: var(--sklearn-color-unfitted-level-2);\n",
              "}\n",
              "\n",
              "/* Label box, darken color on hover, fitted */\n",
              "#sk-container-id-2 div.sk-label.fitted:hover label.sk-toggleable__label.fitted {\n",
              "  color: var(--sklearn-color-text);\n",
              "  background-color: var(--sklearn-color-fitted-level-2);\n",
              "}\n",
              "\n",
              "/* Estimator label */\n",
              "\n",
              "#sk-container-id-2 div.sk-label label {\n",
              "  font-family: monospace;\n",
              "  font-weight: bold;\n",
              "  display: inline-block;\n",
              "  line-height: 1.2em;\n",
              "}\n",
              "\n",
              "#sk-container-id-2 div.sk-label-container {\n",
              "  text-align: center;\n",
              "}\n",
              "\n",
              "/* Estimator-specific */\n",
              "#sk-container-id-2 div.sk-estimator {\n",
              "  font-family: monospace;\n",
              "  border: 1px dotted var(--sklearn-color-border-box);\n",
              "  border-radius: 0.25em;\n",
              "  box-sizing: border-box;\n",
              "  margin-bottom: 0.5em;\n",
              "  /* unfitted */\n",
              "  background-color: var(--sklearn-color-unfitted-level-0);\n",
              "}\n",
              "\n",
              "#sk-container-id-2 div.sk-estimator.fitted {\n",
              "  /* fitted */\n",
              "  background-color: var(--sklearn-color-fitted-level-0);\n",
              "}\n",
              "\n",
              "/* on hover */\n",
              "#sk-container-id-2 div.sk-estimator:hover {\n",
              "  /* unfitted */\n",
              "  background-color: var(--sklearn-color-unfitted-level-2);\n",
              "}\n",
              "\n",
              "#sk-container-id-2 div.sk-estimator.fitted:hover {\n",
              "  /* fitted */\n",
              "  background-color: var(--sklearn-color-fitted-level-2);\n",
              "}\n",
              "\n",
              "/* Specification for estimator info (e.g. \"i\" and \"?\") */\n",
              "\n",
              "/* Common style for \"i\" and \"?\" */\n",
              "\n",
              ".sk-estimator-doc-link,\n",
              "a:link.sk-estimator-doc-link,\n",
              "a:visited.sk-estimator-doc-link {\n",
              "  float: right;\n",
              "  font-size: smaller;\n",
              "  line-height: 1em;\n",
              "  font-family: monospace;\n",
              "  background-color: var(--sklearn-color-background);\n",
              "  border-radius: 1em;\n",
              "  height: 1em;\n",
              "  width: 1em;\n",
              "  text-decoration: none !important;\n",
              "  margin-left: 0.5em;\n",
              "  text-align: center;\n",
              "  /* unfitted */\n",
              "  border: var(--sklearn-color-unfitted-level-1) 1pt solid;\n",
              "  color: var(--sklearn-color-unfitted-level-1);\n",
              "}\n",
              "\n",
              ".sk-estimator-doc-link.fitted,\n",
              "a:link.sk-estimator-doc-link.fitted,\n",
              "a:visited.sk-estimator-doc-link.fitted {\n",
              "  /* fitted */\n",
              "  border: var(--sklearn-color-fitted-level-1) 1pt solid;\n",
              "  color: var(--sklearn-color-fitted-level-1);\n",
              "}\n",
              "\n",
              "/* On hover */\n",
              "div.sk-estimator:hover .sk-estimator-doc-link:hover,\n",
              ".sk-estimator-doc-link:hover,\n",
              "div.sk-label-container:hover .sk-estimator-doc-link:hover,\n",
              ".sk-estimator-doc-link:hover {\n",
              "  /* unfitted */\n",
              "  background-color: var(--sklearn-color-unfitted-level-3);\n",
              "  color: var(--sklearn-color-background);\n",
              "  text-decoration: none;\n",
              "}\n",
              "\n",
              "div.sk-estimator.fitted:hover .sk-estimator-doc-link.fitted:hover,\n",
              ".sk-estimator-doc-link.fitted:hover,\n",
              "div.sk-label-container:hover .sk-estimator-doc-link.fitted:hover,\n",
              ".sk-estimator-doc-link.fitted:hover {\n",
              "  /* fitted */\n",
              "  background-color: var(--sklearn-color-fitted-level-3);\n",
              "  color: var(--sklearn-color-background);\n",
              "  text-decoration: none;\n",
              "}\n",
              "\n",
              "/* Span, style for the box shown on hovering the info icon */\n",
              ".sk-estimator-doc-link span {\n",
              "  display: none;\n",
              "  z-index: 9999;\n",
              "  position: relative;\n",
              "  font-weight: normal;\n",
              "  right: .2ex;\n",
              "  padding: .5ex;\n",
              "  margin: .5ex;\n",
              "  width: min-content;\n",
              "  min-width: 20ex;\n",
              "  max-width: 50ex;\n",
              "  color: var(--sklearn-color-text);\n",
              "  box-shadow: 2pt 2pt 4pt #999;\n",
              "  /* unfitted */\n",
              "  background: var(--sklearn-color-unfitted-level-0);\n",
              "  border: .5pt solid var(--sklearn-color-unfitted-level-3);\n",
              "}\n",
              "\n",
              ".sk-estimator-doc-link.fitted span {\n",
              "  /* fitted */\n",
              "  background: var(--sklearn-color-fitted-level-0);\n",
              "  border: var(--sklearn-color-fitted-level-3);\n",
              "}\n",
              "\n",
              ".sk-estimator-doc-link:hover span {\n",
              "  display: block;\n",
              "}\n",
              "\n",
              "/* \"?\"-specific style due to the `<a>` HTML tag */\n",
              "\n",
              "#sk-container-id-2 a.estimator_doc_link {\n",
              "  float: right;\n",
              "  font-size: 1rem;\n",
              "  line-height: 1em;\n",
              "  font-family: monospace;\n",
              "  background-color: var(--sklearn-color-background);\n",
              "  border-radius: 1rem;\n",
              "  height: 1rem;\n",
              "  width: 1rem;\n",
              "  text-decoration: none;\n",
              "  /* unfitted */\n",
              "  color: var(--sklearn-color-unfitted-level-1);\n",
              "  border: var(--sklearn-color-unfitted-level-1) 1pt solid;\n",
              "}\n",
              "\n",
              "#sk-container-id-2 a.estimator_doc_link.fitted {\n",
              "  /* fitted */\n",
              "  border: var(--sklearn-color-fitted-level-1) 1pt solid;\n",
              "  color: var(--sklearn-color-fitted-level-1);\n",
              "}\n",
              "\n",
              "/* On hover */\n",
              "#sk-container-id-2 a.estimator_doc_link:hover {\n",
              "  /* unfitted */\n",
              "  background-color: var(--sklearn-color-unfitted-level-3);\n",
              "  color: var(--sklearn-color-background);\n",
              "  text-decoration: none;\n",
              "}\n",
              "\n",
              "#sk-container-id-2 a.estimator_doc_link.fitted:hover {\n",
              "  /* fitted */\n",
              "  background-color: var(--sklearn-color-fitted-level-3);\n",
              "}\n",
              "</style><div id=\"sk-container-id-2\" class=\"sk-top-container\"><div class=\"sk-text-repr-fallback\"><pre>PCA()</pre><b>In a Jupyter environment, please rerun this cell to show the HTML representation or trust the notebook. <br />On GitHub, the HTML representation is unable to render, please try loading this page with nbviewer.org.</b></div><div class=\"sk-container\" hidden><div class=\"sk-item\"><div class=\"sk-estimator fitted sk-toggleable\"><input class=\"sk-toggleable__control sk-hidden--visually\" id=\"sk-estimator-id-2\" type=\"checkbox\" checked><label for=\"sk-estimator-id-2\" class=\"sk-toggleable__label fitted sk-toggleable__label-arrow\"><div><div>PCA</div></div><div><a class=\"sk-estimator-doc-link fitted\" rel=\"noreferrer\" target=\"_blank\" href=\"https://scikit-learn.org/1.6/modules/generated/sklearn.decomposition.PCA.html\">?<span>Documentation for PCA</span></a><span class=\"sk-estimator-doc-link fitted\">i<span>Fitted</span></span></div></label><div class=\"sk-toggleable__content fitted\"><pre>PCA()</pre></div> </div></div></div></div>"
            ]
          },
          "metadata": {},
          "execution_count": 32
        }
      ]
    },
    {
      "cell_type": "markdown",
      "source": [
        "**Task 2.5: Extract the loadings (eigenvectors) and eigenvalues** \\\\\n",
        "To do: replace `...` below to find the loadings (eigenvectors) and eigenvalues from PCA result (SVD of $C_0$) \\\\\n",
        "(Hint: the command `pca.components_.T` extracts the loadings (eigenvectors) and \\\\\n",
        "the command  `pca.explained_variance_` extracts the eigenvalues from the PCA result)\n"
      ],
      "metadata": {
        "id": "8I0OgChzDlzF"
      }
    },
    {
      "cell_type": "code",
      "source": [
        "# Step 5.1: Extract the loadings (eigenvectors)\n",
        "loadings = np.round(pca.components_.T,4)\n",
        "print(\"Loadings (Eigenvectors):\\n\", loadings)\n",
        "\n",
        "# Step 5.2: Extract the eigenvalues\n",
        "eigenvalues = pca.explained_variance_\n",
        "print(\"\\nEigenvalues:\\n\", eigenvalues,4)"
      ],
      "metadata": {
        "id": "E0foFlzeDiv8",
        "colab": {
          "base_uri": "https://localhost:8080/"
        },
        "outputId": "34b56ef3-13a5-48e7-fabb-87c619ab182c"
      },
      "execution_count": 42,
      "outputs": [
        {
          "output_type": "stream",
          "name": "stdout",
          "text": [
            "Loadings (Eigenvectors):\n",
            " [[ 0.4856 -0.5561 -0.5128 -0.4381]\n",
            " [ 0.4378  0.7317  0.064  -0.5185]\n",
            " [ 0.5209 -0.3275  0.7848  0.0745]\n",
            " [ 0.5489  0.2192 -0.3421  0.7305]]\n",
            "\n",
            "Eigenvalues:\n",
            " [3.19347181 0.81764237 0.19857571 0.09794626] 4\n"
          ]
        }
      ]
    },
    {
      "cell_type": "markdown",
      "source": [
        "**Task 2.6: Compute specified sums $\\mathbf{y}_1$ and $\\mathbf{y}_2$** \\\\\n",
        "To do: replace `...` below to calculate information about $\\mathbf{y}_1$ and $\\mathbf{y}_2$"
      ],
      "metadata": {
        "id": "KpiIUIBjNftO"
      }
    },
    {
      "cell_type": "code",
      "source": [
        "# Step 6.1: Compute the specified sums\n",
        "y1 = loadings[0, 0] * Z[:, 0] + loadings[1, 0] * Z[:, 1] + loadings[2, 0] * Z[:, 2] + loadings[3, 0] * Z[:, 3]\n",
        "y2 = loadings[0, 1] * Z[:, 0] + loadings[1, 1] * Z[:, 1] + loadings[2, 1] * Z[:, 2] + loadings[3, 1] * Z[:, 3]\n",
        "\n",
        "\n",
        "\n",
        "\n",
        "# Step 6.2: Compute column means of y1 and y2\n",
        "mean_y1 = np.mean(y1)\n",
        "mean_y2 = np.mean(y2)\n",
        "print(\"mean of y1 = \")\n",
        "print(mean_y1)\n",
        "print(\"\\nmean of y2 = \")\n",
        "print(mean_y2)\n",
        "\n",
        "# Step 6.3: Compute column standard deviations of y1 and y2\n",
        "std_dev_y1 = np.std(y1,ddof=1)\n",
        "std_dev_y2 = np.std(y2,ddof=1)\n",
        "print(\"\\nstandard deviation of y1 = \")\n",
        "print(std_dev_y1)\n",
        "print(\"\\nstandard deviation of y2 = \")\n",
        "print(std_dev_y2)\n",
        "\n",
        "# Step 6.4: Normalize y1 and y2\n",
        "y1_normalized = (y1-mean_y1)/std_dev_y1\n",
        "y2_normalized = (y2-mean_y2)/std_dev_y2\n",
        "\n",
        "print(\"\\nnormalized y1 : \")\n",
        "print(y1_normalized)\n",
        "print(\"normalized y2 : \")\n",
        "print(y2_normalized)\n",
        "\n",
        "# Step 6.5: Add y1_normalized and y2_normalized to Z as fifth and sixth columns\n",
        "newZ = np.column_stack((Z,y1_normalized, y2_normalized))\n",
        "print(\"\\nnew Z: \")\n",
        "print(newZ)\n",
        "\n",
        "# Step 6.6: Compute the correlation matrix with y1_normalized and y2_normalized\n",
        "newC0 = np.corrcoef(newZ,rowvar=0)\n",
        "newC0 = np.round(newC0, 4)\n",
        "print(\"\\nnew C_0: \")\n",
        "print(newC0)\n",
        "\n",
        "# Step 6.7: Add row and column labels from newC0\n",
        "newC0_df = pd.DataFrame(newC0)\n",
        "newC0_df.index = [\"MT*\", \"FE*\", \"Qav*\", \"Tav*\", \"y1\", \"y2\"]\n",
        "newC0_df.columns = [\"MT*\", \"FE*\", \"Qav*\", \"Tav*\", \"y1\", \"y2\"]\n",
        "print(\"\\nnew C_0 with labels: \")\n",
        "print(newC0_df)"
      ],
      "metadata": {
        "id": "89HWCYYlHgbP",
        "colab": {
          "base_uri": "https://localhost:8080/"
        },
        "outputId": "9c93eecd-82af-4b90-8551-5cba9da1294d"
      },
      "execution_count": 43,
      "outputs": [
        {
          "output_type": "stream",
          "name": "stdout",
          "text": [
            "mean of y1 = \n",
            "6.647857142803661e-06\n",
            "\n",
            "mean of y2 = \n",
            "-1.0178571428725341e-06\n",
            "\n",
            "standard deviation of y1 = \n",
            "1.7871218843693712\n",
            "\n",
            "standard deviation of y2 = \n",
            "0.9042073051519166\n",
            "\n",
            "normalized y1 : \n",
            "[ 1.2955014   0.73695308 -0.72283891  0.14669209  0.58597725 -1.58656173\n",
            " -0.23004116  0.18508673  1.87609808 -0.31276519  0.79332737 -0.49435328\n",
            " -0.81089856 -1.46217717]\n",
            "normalized y2 : \n",
            "[-0.27118422  0.0283978   1.80396186  1.75140751 -0.04017976 -1.09759285\n",
            "  0.22902861 -0.76083575 -0.55933599  0.47601761 -0.69982007 -0.35826961\n",
            "  1.06885065 -1.57044578]\n",
            "\n",
            "new Z: \n",
            "[[ 1.3182      0.9763      1.3534      0.9887      1.2955014  -0.27118422]\n",
            " [ 0.8261      0.4995      0.2966      0.9887      0.73695308  0.0283978 ]\n",
            " [-1.6346      0.7777     -0.9112     -0.6629     -0.72283891  1.80396186]\n",
            " [-0.6503      0.9763     -0.8357      1.0673      0.14669209  1.75140751]\n",
            " [ 0.334       0.4995      0.9004      0.3595      0.58597725 -0.04017976]\n",
            " [-0.8964     -2.1229     -1.2132     -1.528      -1.58656173 -1.09759285]\n",
            " [-0.8964     -0.2554      0.2966     -0.0337     -0.23004116  0.22902861]\n",
            " [ 0.334      -0.3746      0.674      -0.0337      0.18508673 -0.76083575]\n",
            " [ 2.0564      0.9763      1.5798      2.0111      1.87609808 -0.55933599]\n",
            " [-0.4043      0.2611     -0.3828     -0.5056     -0.31276519  0.47601761]\n",
            " [ 0.8261      0.2611      1.3534      0.3595      0.79332737 -0.69982007]\n",
            " [ 0.334      -0.3746     -0.9112     -0.7415     -0.49435328 -0.35826961]\n",
            " [-1.1425      0.1419     -1.1377     -0.6629     -0.81089856  1.06885065]\n",
            " [-0.4043     -2.2421     -1.0622     -1.6066     -1.46217717 -1.57044578]]\n",
            "\n",
            "new C_0: \n",
            "[[ 1.      0.336   0.8111  0.701   0.8362 -0.4846]\n",
            " [ 0.336   1.      0.5     0.7958  0.7539  0.6376]\n",
            " [ 0.8111  0.5     1.      0.7487  0.8969 -0.2854]\n",
            " [ 0.701   0.7958  0.7487  1.      0.9452  0.191 ]\n",
            " [ 0.8362  0.7539  0.8969  0.9452  1.      0.    ]\n",
            " [-0.4846  0.6376 -0.2854  0.191   0.      1.    ]]\n",
            "\n",
            "new C_0 with labels: \n",
            "         MT*     FE*    Qav*    Tav*      y1      y2\n",
            "MT*   1.0000  0.3360  0.8111  0.7010  0.8362 -0.4846\n",
            "FE*   0.3360  1.0000  0.5000  0.7958  0.7539  0.6376\n",
            "Qav*  0.8111  0.5000  1.0000  0.7487  0.8969 -0.2854\n",
            "Tav*  0.7010  0.7958  0.7487  1.0000  0.9452  0.1910\n",
            "y1    0.8362  0.7539  0.8969  0.9452  1.0000  0.0000\n",
            "y2   -0.4846  0.6376 -0.2854  0.1910  0.0000  1.0000\n"
          ]
        }
      ]
    },
    {
      "cell_type": "markdown",
      "source": [
        "**Task 2.7: Compute the Proportion of Variance Explained** \\\\\n",
        "To do: replace `...` below to calculate the proportion of variance explained (eigenvalues) by each principal component"
      ],
      "metadata": {
        "id": "vRofXxc6QjYL"
      }
    },
    {
      "cell_type": "code",
      "source": [
        "# Step 6: Compute the proportion of variance explained\n",
        "proportion_variance = np.round(pca.explained_variance_ratio_,4)\n",
        "print(\"Proportion of Variance Explained:\\n\", proportion_variance)"
      ],
      "metadata": {
        "id": "bgL9wB4_Qjqu",
        "colab": {
          "base_uri": "https://localhost:8080/"
        },
        "outputId": "b87ea4a1-de45-468b-ca72-a570ed1be9b9"
      },
      "execution_count": 45,
      "outputs": [
        {
          "output_type": "stream",
          "name": "stdout",
          "text": [
            "Proportion of Variance Explained:\n",
            " [0.7414 0.1898 0.0461 0.0227]\n"
          ]
        }
      ]
    },
    {
      "cell_type": "markdown",
      "source": [
        "**Task 2.8: Find the principal components** \\\\\n",
        "To do: replace `...` below to find the principal components from the PCA result \\\\\n",
        "(Hint: the command `pca.transform(X)` returns the principal components from the PCA result)"
      ],
      "metadata": {
        "id": "zMOrOKvmRSn1"
      }
    },
    {
      "cell_type": "code",
      "source": [
        "# Step 11: Compute the principal components\n",
        "principal_components = np.round(pca.transform(Z),4)\n",
        "print(\"Principal Components:\\n\", principal_components)"
      ],
      "metadata": {
        "id": "kqdLL4IzRvtJ",
        "colab": {
          "base_uri": "https://localhost:8080/"
        },
        "outputId": "c890cee4-04f1-4bd7-bab6-2402da29a88d"
      },
      "execution_count": 46,
      "outputs": [
        {
          "output_type": "stream",
          "name": "stdout",
          "text": [
            "Principal Components:\n",
            " [[ 2.3151 -0.2452  0.1104 -0.2607]\n",
            " [ 1.317   0.0257 -0.4971  0.1234]\n",
            " [-1.2918  1.6312  0.3997 -0.2392]\n",
            " [ 0.2621  1.5837 -0.625   0.4961]\n",
            " [ 1.0471 -0.0363  0.4443 -0.0757]\n",
            " [-2.8352 -0.9925 -0.1056  0.287 ]\n",
            " [-0.4111  0.2071  0.6876  0.5226]\n",
            " [ 0.3308 -0.688   0.3452  0.0735]\n",
            " [ 3.3527 -0.5058 -0.4402  0.1796]\n",
            " [-0.5589  0.4304  0.0966 -0.3561]\n",
            " [ 1.4177 -0.6328  0.5322 -0.1339]\n",
            " [-0.8834 -0.324  -0.6567 -0.5616]\n",
            " [-1.4491  0.9665 -0.0711 -0.142 ]\n",
            " [-2.6129 -1.4201 -0.2202  0.087 ]]\n"
          ]
        }
      ]
    },
    {
      "cell_type": "markdown",
      "source": [
        "**Task 2.9: Print the results**"
      ],
      "metadata": {
        "id": "QsM4thBnUXaW"
      }
    },
    {
      "cell_type": "code",
      "source": [
        "# Step 8: Print the results\n",
        "print(\"Correlation Matrix (C0):\")\n",
        "print(C0)\n",
        "print(\"\\nLoadings (Eigenvectors)\")\n",
        "print(loadings)\n",
        "print(\"\\nEigenvalues:\")\n",
        "print(eigenvalues)\n",
        "print(\"\\nProportion of Variance Explained:\")\n",
        "print(proportion_variance)\n",
        "print(\"\\nPrincipal Components:\")\n",
        "print(principal_components)"
      ],
      "metadata": {
        "id": "Z3NBJH5SUaFK",
        "colab": {
          "base_uri": "https://localhost:8080/"
        },
        "outputId": "b6a2c29c-c368-4c4a-8cb1-343328cee230"
      },
      "execution_count": 47,
      "outputs": [
        {
          "output_type": "stream",
          "name": "stdout",
          "text": [
            "Correlation Matrix (C0):\n",
            "[[1.         0.33601671 0.81113162 0.70104607]\n",
            " [0.33601671 1.         0.49995247 0.79583459]\n",
            " [0.81113162 0.49995247 1.         0.74870469]\n",
            " [0.70104607 0.79583459 0.74870469 1.        ]]\n",
            "\n",
            "Loadings (Eigenvectors)\n",
            "[[ 0.4856 -0.5561 -0.5128 -0.4381]\n",
            " [ 0.4378  0.7317  0.064  -0.5185]\n",
            " [ 0.5209 -0.3275  0.7848  0.0745]\n",
            " [ 0.5489  0.2192 -0.3421  0.7305]]\n",
            "\n",
            "Eigenvalues:\n",
            "[3.19347181 0.81764237 0.19857571 0.09794626]\n",
            "\n",
            "Proportion of Variance Explained:\n",
            "[0.7414 0.1898 0.0461 0.0227]\n",
            "\n",
            "Principal Components:\n",
            "[[ 2.3151 -0.2452  0.1104 -0.2607]\n",
            " [ 1.317   0.0257 -0.4971  0.1234]\n",
            " [-1.2918  1.6312  0.3997 -0.2392]\n",
            " [ 0.2621  1.5837 -0.625   0.4961]\n",
            " [ 1.0471 -0.0363  0.4443 -0.0757]\n",
            " [-2.8352 -0.9925 -0.1056  0.287 ]\n",
            " [-0.4111  0.2071  0.6876  0.5226]\n",
            " [ 0.3308 -0.688   0.3452  0.0735]\n",
            " [ 3.3527 -0.5058 -0.4402  0.1796]\n",
            " [-0.5589  0.4304  0.0966 -0.3561]\n",
            " [ 1.4177 -0.6328  0.5322 -0.1339]\n",
            " [-0.8834 -0.324  -0.6567 -0.5616]\n",
            " [-1.4491  0.9665 -0.0711 -0.142 ]\n",
            " [-2.6129 -1.4201 -0.2202  0.087 ]]\n"
          ]
        }
      ]
    },
    {
      "cell_type": "code",
      "source": [
        "# Plotting the principal axes\n",
        "plt.scatter(principal_components[:, 0], principal_components[:, 1], color='blue')\n",
        "plt.xlabel('PC1')\n",
        "plt.ylabel('PC2')\n",
        "plt.title('Scatter Plot with Principal Axes')\n",
        "plt.axhline(0, color='gray')\n",
        "plt.axvline(0, color='gray')\n",
        "plt.arrow(0, 0, loadings[0, 0], loadings[1, 0], color='red', linewidth=2, label='PC1')\n",
        "plt.arrow(0, 0, loadings[0, 1], loadings[1, 1], color='green', linewidth=2, label='PC2')\n",
        "plt.legend(loc='upper right')\n",
        "plt.show()"
      ],
      "metadata": {
        "id": "CnhH-QwuI6_k",
        "colab": {
          "base_uri": "https://localhost:8080/",
          "height": 472
        },
        "outputId": "d2bd8cfe-90ab-48aa-f288-fe71964ddbd3"
      },
      "execution_count": 48,
      "outputs": [
        {
          "output_type": "display_data",
          "data": {
            "text/plain": [
              "<Figure size 640x480 with 1 Axes>"
            ],
            "image/png": "[encoded data removed]"
          },
          "metadata": {}
        }
      ]
    },
    {
      "cell_type": "markdown",
      "source": [
        "# Exercise 3: Tests scores in Algebra, Trigonometry, English Literature and Chinese Literature"
      ],
      "metadata": {
        "id": "KJBo1xnHkwz3"
      }
    },
    {
      "cell_type": "markdown",
      "source": [
        "**1.8 Exercise 3** \\\\\n",
        "Principal Component Analysis: Test Scores in Mathematics, English Literature , and Chinese Literature\n",
        "\n",
        "A group of ten students took four tests: two in mathematics (Algebra (abbreviated as $Alg$) and Trigonometry (abbreviated as $Trig$)), one in English Literature (abbreviated as $Englit$), and one in Chinese Literature (abbreviated as $Chilit$). The following table presents both the original and the scaled scores.\n",
        "\n",
        "**1.8.1 Original and Scaled Test Scores** \\\\\n",
        "\n",
        "$$\n",
        "\\begin{array}{cccccccc}\n",
        "\\hline\n",
        "Student & Alg & Trig & Englit & Chilit \\\\\n",
        "\\hline\n",
        "1  & 95 & 88 & 65 & 68 \\\\\n",
        "2  & 87 & 92 & 70 & 74 \\\\\n",
        "3  & 75 & 78 & 75 & 72 \\\\\n",
        "4  & 74 & 70 & 85 & 81 \\\\\n",
        "5  & 46 & 51 & 92 & 95 \\\\\n",
        "6  & 62 & 55 & 88 & 90 \\\\\n",
        "7  & 82 & 91 & 85 & 90 \\\\\n",
        "8  & 68 & 52 & 55 & 60 \\\\\n",
        "9  & 82 & 78 & 80 & 75 \\\\\n",
        "10 & 65 & 70 & 72 & 70 \\\\\n",
        "\\hline\n",
        "\\end{array}\n",
        "$$"
      ],
      "metadata": {
        "id": "Gcbwanmtl3LP"
      }
    },
    {
      "cell_type": "markdown",
      "source": [
        "Perferm the following tasks: (refer to exercise 2) \\\\\n",
        "1. * **Original Data**: The data is stored in a NumPy array.\n",
        "   * **Compute Column Means**: Calculate the mean for each column using `np.mean`.\n",
        "   *  **Compute Column Standard Deviations**: Calculate the standard deviation for each column using `np.std` with `ddof=1` for sample standard deviation.\n",
        "2. * **Standardize the Data**: Use the formula\n",
        "$$\n",
        "\\textbf{z} = \\frac{\\textbf{x}-\\bar{\\textbf{x}}}{s_\\textbf{x}}\n",
        "$$\n",
        "to standardize the data. (obtaining a scaled variable with mean 0 and standard devation 1)\n",
        "   * **Round the $Z$ Matrix**: Round the standardized values to four decimal places using `np.round`.\n",
        "3. * **Compute the Correlation Matrix**: Calculate the correlation matrix of the standardized data using `np.corrcoef`.\n",
        "   * **Round the $C_0$ Matrix**: Round the values to four decimal places using `np.round`.\n",
        "4. **Perform PCA**: Use PCA from `sklearn.decomposition` to perform principal component analysis.\n",
        "5. * **Extract the Loadings**: Get the eigenvectors (loadings) from the PCA result using `pca.components_`.\n",
        "   * **Extract the Eigenvalues**: Get the eigenvalues from the PCA result using `pca.explained_variance_`.\n",
        "6. * **Compute Specified Sums `y1` and `y2`**: Calculate the specified sums using the loadings and standardized data.\n",
        "  * **Compute Column Means of `y1` and `y2`**: Calculate the mean of the computed sums `y1` and `y2`.\n",
        "  * **Compute Column Standard Deviations of `y1` and `y2`**: Calculate the standard deviation of `y1` and `y2`.\n",
        "  * **Normalize `y1` and `y2`**: Normalize `y1` and `y2` using their respective means and standard deviations.\n",
        "  * **Add `y1_normalized` and `y2_normalized` to Z**: Add the normalized `y1` and `y2` as new columns to the standardized data matrix.\n",
        "  * **Compute Correlation Matrix with `y1_normalized` and `y2_normalized`**: Calculate the correlation matrix including the normalized `y1` and `y2`.\n",
        "  * **Remove Row and Column Labels from `newC0`**: Remove the row and column labels from the new correlation matrix.\n",
        "7. **Compute the Proportion of Variance Explained**: Calculate the proportion of variance explained by each principal component.\n",
        "8. **Compute the Principal Components**: Get the principal components from the PCA result using `pca.transform`.\n",
        "9. * **Print the Results**: Display the correlation matrix, loadings, eigenvalues, proportion of variance explained, and principal components.\n",
        "   * **Plot Principal Axes**: Plot the principal axes (PC1 and PC2) in a scatter plot with different colors.\n"
      ],
      "metadata": {
        "id": "yKkCONs7O21h"
      }
    },
    {
      "cell_type": "code",
      "source": [
        "import numpy as np\n",
        "from sklearn.preprocessing import StandardScaler\n",
        "from sklearn.decomposition import PCA\n",
        "\n",
        "# Step 1,1: Original data\n",
        "data = ...\n",
        "\n",
        "# Step 1.2: Compute column means\n",
        "mean_values = ...\n",
        "print(\"Column Means:\", mean_values)\n",
        "\n",
        "# Step 1.3: Compute column standard deviations\n",
        "std_dev_values = ...\n",
        "print(\"Column Standard Deviations:\", std_dev_values)"
      ],
      "metadata": {
        "id": "BhfzfdDAoa36"
      },
      "execution_count": null,
      "outputs": []
    },
    {
      "cell_type": "code",
      "source": [
        "# Step 2.1: Standardize the data\n",
        "Z = ...\n",
        "\n",
        "# Step 2.2: Round the Z matrix to four decimal places\n",
        "Z = ...\n",
        "print(\"Standardized Data (Z):\\n\", Z)"
      ],
      "metadata": {
        "id": "ZUciJylMoa36"
      },
      "execution_count": null,
      "outputs": []
    },
    {
      "cell_type": "code",
      "source": [
        "# Step 3: Compute the correlation matrix\n",
        "C0 = ...\n",
        "C0 = ...\n",
        "print(\"Correlation Matrix (C0):\\n\", C0)"
      ],
      "metadata": {
        "id": "M0iJVzBloa36"
      },
      "execution_count": null,
      "outputs": []
    },
    {
      "cell_type": "code",
      "source": [
        "# Step 4: Perform PCA\n",
        "pca = ...\n",
        "..."
      ],
      "metadata": {
        "id": "8fFTYz3Goa37"
      },
      "execution_count": null,
      "outputs": []
    },
    {
      "cell_type": "code",
      "source": [
        "# Step 5.1: Extract the loadings (eigenvectors)\n",
        "loadings = ...\n",
        "loadings = ...\n",
        "print(\"Loadings (Eigenvectors):\\n\", loadings)\n",
        "\n",
        "# Step 5.2: Extract the eigenvalues\n",
        "eigenvalues = ...\n",
        "eigenvalues = ...\n",
        "print(\"\\nEigenvalues:\\n\", eigenvalues)"
      ],
      "metadata": {
        "id": "z4s_bbkuoa37"
      },
      "execution_count": null,
      "outputs": []
    },
    {
      "cell_type": "code",
      "source": [
        "# Step 6: Compute the proportion of variance explained\n",
        "proportion_variance = ...\n",
        "proportion_variance = ...\n",
        "print(\"Proportion of Variance Explained:\\n\", proportion_variance)"
      ],
      "metadata": {
        "id": "b3Kt50xboa37"
      },
      "execution_count": null,
      "outputs": []
    },
    {
      "cell_type": "code",
      "source": [
        "# Step 11: Compute the principal components\n",
        "principal_components = ...\n",
        "principal_components = ...\n",
        "print(\"Principal Components:\\n\", principal_components)"
      ],
      "metadata": {
        "id": "qtcOPvzqoa37"
      },
      "execution_count": null,
      "outputs": []
    },
    {
      "cell_type": "code",
      "source": [
        "# Step 8: Print the results\n",
        "print(\"Correlation Matrix (C0):\")\n",
        "print(C0)\n",
        "print(\"\\nLoadings (Eigenvectors)\")\n",
        "print(loadings)\n",
        "print(\"\\nEigenvalues:\")\n",
        "print(eigenvalues)\n",
        "print(\"\\nProportion of Variance Explained:\")\n",
        "print(proportion_variance)\n",
        "print(\"\\nPrincipal Components:\")\n",
        "print(principal_components)"
      ],
      "metadata": {
        "id": "B8Mg-sKzoa37"
      },
      "execution_count": null,
      "outputs": []
    }
  ]
}